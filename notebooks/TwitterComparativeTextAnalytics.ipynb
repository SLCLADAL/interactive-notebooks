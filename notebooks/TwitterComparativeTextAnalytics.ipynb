{
 "cells": [
  {
   "cell_type": "markdown",
   "metadata": {
    "id": "GWwHjS5UtEQ1",
    "tags": []
   },
   "source": [
    "# Basic text analytics: counting words\n",
    "\n",
    "In this notebook, you will learn:\n",
    "1. how to prepare text data for analysis\n",
    "2. how to derive word frequency information for a corpus (a collection of texts)\n",
    "3. how to produce visualisations comparing the frequency of occurrence of words in two corpora\n",
    "\n",
    "**Prerequisites**:\n",
    "1. basic familiarity with R\n",
    "3. The following R packages installed: **tm, NLP, stringi, magrittr, ggplot2**\n",
    "\n",
    "### What's in a word?\n",
    "\n",
    "The title above includes the phrase *counting words* - but what does *word* mean here? How would you define *word*?\n",
    "\n",
    "To get a sense of the problem, think about the following question:\n",
    "\n",
    "*How many words are there in the sentence '**The cat sat on the mat**'?*\n",
    "\n",
    "There are two reasonable answers to this question:\n",
    "- Answer 1: There are six words – six groups of characters separated in accordance with orthographic convention\n",
    "- Answer 2: There are five words – five unique groups of characters and one of those occurs twice\n",
    "Both answers are correct – but we are counting different things. The standard terms for these things are **tokens** and **types**.\n",
    "\n",
    "Types are the unique entities on our sample. If we count types, we are not interested in how many times each type occurs; after we have included a type in our count, we ignore repetitions. If we count tokens, we do care how often each type occurs; we count each repetition of each type\n",
    "\n",
    "We can also think about another question:\n",
    "\n",
    "*Are 'dog' and dogs' the same word?*\n",
    "\n",
    "They are distinct types – they are not identical and they have to be distinct tokens (if they occur in the same text).\n",
    "But we still have an intuition that there is some abstract entity which includes both of them - for example, we would not expect a (monolingual) dictionary to have entries for both. The abstract entity goes by various names such as **lemma** and **listeme**. (We are not going to look at such entities today.)"
   ]
  },
  {
   "cell_type": "markdown",
   "metadata": {
    "id": "oiRU-46mtjj1"
   },
   "source": [
    "### Getting set up\n",
    "We will be using five R packages in this exercise: **tm** which provides tools for text mining, **NLP** which tm requires, **stringi** which provides string processing tools, **magrittr** which allows us to use pipe notation (more about this later), and **ggplot2** for some visualisation. We do not want R to treat bits of text as factors, so we set the option which prevents that. We will be working with the data files which you created in the first part of the workshop and we assume that these are still locally available."
   ]
  },
  {
   "cell_type": "code",
   "execution_count": 1,
   "metadata": {
    "colab": {
     "base_uri": "https://localhost:8080/"
    },
    "executionInfo": {
     "elapsed": 109120,
     "status": "ok",
     "timestamp": 1637621573706,
     "user": {
      "displayName": "Simon Musgrave",
      "photoUrl": "https://lh3.googleusercontent.com/a-/AOh14GguuB-J34iqcVjnFCISWHi0cw7BIxBP5Hgb2bMf=s64",
      "userId": "03928625455580756316"
     },
     "user_tz": -660
    },
    "id": "q37YidXltVsT",
    "outputId": "f426b90f-345b-43f1-c84d-74c8cca9f35b"
   },
   "outputs": [
    {
     "name": "stderr",
     "output_type": "stream",
     "text": [
      "\n",
      "Attaching package: ‘ggplot2’\n",
      "\n",
      "\n",
      "The following object is masked from ‘package:NLP’:\n",
      "\n",
      "    annotate\n",
      "\n",
      "\n"
     ]
    }
   ],
   "source": [
    "# Set up if needed\n",
    "#install.packages('NLP')\n",
    "#install.packages('tm')\n",
    "#install.packages('stringi')\n",
    "#install.packages('magrittr')\n",
    "#install.packages('ggplot2')\n",
    "\n",
    "library(\"NLP\")\n",
    "library('tm')\n",
    "library('stringi')\n",
    "library('magrittr')\n",
    "library('ggplot2')\n",
    "\n",
    "# set options\n",
    "options(stringsAsFactors = F)"
   ]
  },
  {
   "cell_type": "markdown",
   "metadata": {
    "id": "PWRngniJv8Hf"
   },
   "source": [
    "### Preparing the text\n",
    "First, we have to make our text available for analysis. There are several preprocessing operations which are more or less standard in text analysis, but first we need to think about how these operations relate to twitter data.\n",
    "\n",
    "The details of how text is tokenised vary from one tool to another. This means that in order to have *dog* and *dog,* treated as tokens of the same type, removing punctuation from text is sensible. This is normally done using a predefined list of punctuation characters such as this one:\n",
    "\n",
    "! \" # $ % & ' * + , . ) ( : ; < = > ? @ \\ / ] [ ^ ` { | } ~\n",
    "\n",
    "But this might be problematic for Twitter data! If we delete all punctuation from tweets, we will not be able to keep track of two important elements:\n",
    "- Hashtags e.g. #auspol\n",
    "- Handles e.g. @SimonMusgrave1\n",
    "\n",
    "One solution would be to change the relevant punctuation to text, but this is a bit clunky. Another possibility is to not delete those two punctuation marks. Text handling packages (like **tm** and **OpenNLP**) come with predefined punctuation lists and (in theory) we can edit those lists. But in practice it can be hard to track them down and it is easier to write a line of code to do a customised deletion.\n",
    "\n",
    "The next code cell does some basic cleaning operations on our data, such as getting rid of urls and new line characers (and a solution for the punctuation problem). We end by inspecting the data to make sure that we have the results we expect."
   ]
  },
  {
   "cell_type": "code",
   "execution_count": 2,
   "metadata": {
    "executionInfo": {
     "elapsed": 345,
     "status": "ok",
     "timestamp": 1637622057643,
     "user": {
      "displayName": "Simon Musgrave",
      "photoUrl": "https://lh3.googleusercontent.com/a-/AOh14GguuB-J34iqcVjnFCISWHi0cw7BIxBP5Hgb2bMf=s64",
      "userId": "03928625455580756316"
     },
     "user_tz": -660
    },
    "id": "oxkdkkYnzGNG"
   },
   "outputs": [
    {
     "name": "stdout",
     "output_type": "stream",
     "text": [
      "'data.frame':\t2869 obs. of  7 variables:\n",
      " $ id                            : num  1.46e+18 1.46e+18 1.46e+18 1.46e+18 1.46e+18 ...\n",
      " $ created_at                    : chr  \"2021-11-05T04:13:44.000Z\" \"2021-11-05T03:59:04.000Z\" \"2021-11-05T03:54:40.000Z\" \"2021-11-05T03:53:52.000Z\" ...\n",
      " $ author_id                     : num  1.25e+18 1.07e+18 8.89e+17 1.43e+18 1.33e+18 ...\n",
      " $ text                          : chr  \"Image prediction: echidna\\\\nConfidence: 10.09%\\\\nSubmission by @xkmi_ https://t.co/MMZ3yfw8PY\" \"Echidna \\U{01f5a4}(Re: Zero)\\\\n\\\\n[A portion of cool art] https://t.co/4v5E5BwRSg\" \"Jeff the Echidna\" \"For some reason, I found Knuckles the Echidna easier than Bob Charlie. https://t.co/C9MJp6TS7v\" ...\n",
      " $ referenced_tweets.retweeted.id: num  1.46e+18 1.46e+18 NA NA NA ...\n",
      " $ public_metrics.like_count     : int  2467 644 0 0 0 1 0 111 1 1 ...\n",
      " $ stripped_text                 : chr  \"Image prediction echidna Confidence 1009 Submission by @xkmi_ \" \"Echidna \\U{01f5a4}Re Zero  [A portion of cool art] \" \"Jeff the Echidna\" \"For some reason I found Knuckles the Echidna easier than Bob Charlie \" ...\n"
     ]
    }
   ],
   "source": [
    "# read data as csv file, read text as vector, create corpus\n",
    "# assumes data file is in the working directory\n",
    "echidna <- read.csv(\"echidna_minimal.csv\", header = TRUE, stringsAsFactors = FALSE, encoding = \"UTF-8\")\n",
    "# remove urls\n",
    "echidna$stripped_text <- gsub(\"http.*\",\"\",  echidna$text)\n",
    "echidna$stripped_text <- gsub(\"https.*\",\"\", echidna$stripped_text)\n",
    "# remove new lines\n",
    "echidna$stripped_text <- gsub(\"\\\\n\",\" \", echidna$stripped_text, fixed = TRUE)\n",
    "# punctuation \n",
    "echidna$stripped_text <- gsub(\"['.,!?\\\"*+%&;:<=>/)(^~`|)(}{]\", \"\", echidna$stripped_text)\n",
    "\n",
    "# inspect data\n",
    "str(echidna)"
   ]
  },
  {
   "cell_type": "markdown",
   "metadata": {
    "id": "4qxRhKftzUVG"
   },
   "source": [
    "We also need to do something about emojis - they are part of the communicative resources of twitter and we don't want to just ignore them. The way we will do this is by replacing the emojis with their prose description. Notice that we have read in the data as UTF-8, i.e. Unicode encoding. We can search for the Unicode representations of emojis (which look like this: \\U+1F928) and then recover the description from the look-up table we download. Those descriptions have spaces in them and we delete those - our counting procedures look at single tokens, so *smiling face* will not be recorded as a unit but *smilingface* will. (Note that even if we decided we were not interested in emojis - and that is a reasonable decision in some cases - we would still need to be able to identify them in order to delete them.)\n",
    "\n",
    "The various search-and-replace operations in the previous and following code blocks use **regular expressions**. Regular expressions are a powerful way of specifying patterns of characters to be matched; if you would like to learn more about them, [this](http://solaris-8.tripod.com/regexp.pdf) is a good place to start.\n",
    "\n",
    "The following code block also uses *piping*, mentioned above. The symbol **%>%** shows this - it can be read more or less as *and then*. So the first snippet which starts with *emoji* can be read as:\n",
    "Take the object **emoji**, extract all the elements in that object which match the specified pattern, *and then* take the output of that operation and replace the specified pattern with nothing *and then* take the output of that operation and trim any space from the strings *and then* assign the output to the object **emoji.chars**."
   ]
  },
  {
   "cell_type": "code",
   "execution_count": 3,
   "metadata": {
    "executionInfo": {
     "elapsed": 5287,
     "status": "ok",
     "timestamp": 1637622130726,
     "user": {
      "displayName": "Simon Musgrave",
      "photoUrl": "https://lh3.googleusercontent.com/a-/AOh14GguuB-J34iqcVjnFCISWHi0cw7BIxBP5Hgb2bMf=s64",
      "userId": "03928625455580756316"
     },
     "user_tz": -660
    },
    "id": "AMhkT2AyzuYA"
   },
   "outputs": [
    {
     "data": {
      "text/html": [
       "<style>\n",
       ".list-inline {list-style: none; margin:0; padding: 0}\n",
       ".list-inline>li {display: inline-block}\n",
       ".list-inline>li:not(:last-child)::after {content: \"\\00b7\"; padding: 0 .5ex}\n",
       "</style>\n",
       "<ol class=list-inline><li>'Image prediction echidna Confidence 1009 Submission by @xkmi_ '</li><li><span style=white-space:pre-wrap>'Echidna blackheart  Re Zero  [A portion of cool art] '</span></li><li>'Jeff the Echidna'</li><li>'For some reason I found Knuckles the Echidna easier than Bob Charlie '</li><li>'Mara The Echidna by @JJackhog on '</li><li>'goodnight to everyone who likes echidna the rest of yougoodnight i guess'</li></ol>\n"
      ],
      "text/latex": [
       "\\begin{enumerate*}\n",
       "\\item 'Image prediction echidna Confidence 1009 Submission by @xkmi\\_ '\n",
       "\\item 'Echidna blackheart  Re Zero  {[}A portion of cool art{]} '\n",
       "\\item 'Jeff the Echidna'\n",
       "\\item 'For some reason I found Knuckles the Echidna easier than Bob Charlie '\n",
       "\\item 'Mara The Echidna by @JJackhog on '\n",
       "\\item 'goodnight to everyone who likes echidna the rest of yougoodnight i guess'\n",
       "\\end{enumerate*}\n"
      ],
      "text/markdown": [
       "1. 'Image prediction echidna Confidence 1009 Submission by @xkmi_ '\n",
       "2. <span style=white-space:pre-wrap>'Echidna blackheart  Re Zero  [A portion of cool art] '</span>\n",
       "3. 'Jeff the Echidna'\n",
       "4. 'For some reason I found Knuckles the Echidna easier than Bob Charlie '\n",
       "5. 'Mara The Echidna by @JJackhog on '\n",
       "6. 'goodnight to everyone who likes echidna the rest of yougoodnight i guess'\n",
       "\n",
       "\n"
      ],
      "text/plain": [
       "[1] \"Image prediction echidna Confidence 1009 Submission by @xkmi_ \"          \n",
       "[2] \"Echidna blackheart  Re Zero  [A portion of cool art] \"                   \n",
       "[3] \"Jeff the Echidna\"                                                        \n",
       "[4] \"For some reason I found Knuckles the Echidna easier than Bob Charlie \"   \n",
       "[5] \"Mara The Echidna by @JJackhog on \"                                       \n",
       "[6] \"goodnight to everyone who likes echidna the rest of yougoodnight i guess\""
      ]
     },
     "metadata": {},
     "output_type": "display_data"
    }
   ],
   "source": [
    "# encoded emojis to prose descriptions\n",
    "# read emoji info and get rid of documentation lines\n",
    "readLines(\"https://unicode.org/Public/emoji/5.0/emoji-test.txt\",\n",
    "          encoding=\"UTF-8\") %>%\n",
    "  stri_subset_regex(pattern = \"^[^#]\") %>%\n",
    "  stri_subset_regex(pattern = \".+\") -> emoji\n",
    "\n",
    "# get the emoji characters and clean them up\n",
    "emoji %>%\n",
    "  stri_extract_all_regex(pattern = \"# *.{1,2} *\") %>%\n",
    "  stri_replace_all_fixed(pattern = c(\"*\", \"#\"),\n",
    "                         replacement = \"\",\n",
    "                         vectorize_all=FALSE) %>%\n",
    "  stri_trim_both() -> emoji.chars\n",
    "\n",
    "# get the emoji character descriptions\n",
    "emoji %>%\n",
    "  stri_extract_all_regex(pattern = \"#.*$\") %>%\n",
    "  stri_replace_all_regex(pattern = \"# *.{1,2} *\",\n",
    "                         replacement = \"\") %>%\n",
    "  stri_trim_both() -> emoji.descriptions\n",
    "# collapse the descriptions\n",
    "emoji.descriptions <- gsub(\" \", '', emoji.descriptions, fixed = TRUE)\n",
    "\n",
    "# Replace Unicode characters with prose descriptions\n",
    "echidna$stripped_text <- stri_replace_all_regex(echidna$stripped_text, pattern = emoji.chars, replacement = paste(emoji.descriptions,\" \"), vectorize_all=FALSE)\n",
    "\n",
    "# inspect data\n",
    "head(echidna$stripped_text)\n"
   ]
  },
  {
   "cell_type": "markdown",
   "metadata": {
    "id": "XdMp19Uxzu-p"
   },
   "source": [
    "### More preparation\n",
    "Now we can do the kind of preparation which we might do for any text data. Creating a Corpus object via **tm** is a good way to do this; it means we can  use **tm** tools to do some pre-processing and we will use other **tm** tools to do the counting later.\n",
    "\n",
    "Initially, we will apply four kinds of cleaning to our data:\n",
    "1. Making all characters lower case; otherwise *dog* and *Dog* will be treated as distinct types.\n",
    "2. Removing numbers; probably not important here, but e.g. page numbers can cause artefacts to appear in analyses\n",
    "3. Removing whitespace other than single spaces between tokens.\n",
    "\n",
    "(You will see some warning messages as this code runs - they are not important.)"
   ]
  },
  {
   "cell_type": "code",
   "execution_count": 4,
   "metadata": {
    "colab": {
     "base_uri": "https://localhost:8080/"
    },
    "executionInfo": {
     "elapsed": 308,
     "status": "ok",
     "timestamp": 1637622161392,
     "user": {
      "displayName": "Simon Musgrave",
      "photoUrl": "https://lh3.googleusercontent.com/a-/AOh14GguuB-J34iqcVjnFCISWHi0cw7BIxBP5Hgb2bMf=s64",
      "userId": "03928625455580756316"
     },
     "user_tz": -660
    },
    "id": "aZAmNFNrBb-v",
    "outputId": "8c9a09c9-974e-47ab-914d-ab477675fde2"
   },
   "outputs": [
    {
     "name": "stderr",
     "output_type": "stream",
     "text": [
      "Warning message in tm_map.SimpleCorpus(., content_transformer(tolower)):\n",
      "“transformation drops documents”\n",
      "Warning message in tm_map.SimpleCorpus(., removeNumbers):\n",
      "“transformation drops documents”\n",
      "Warning message in tm_map.SimpleCorpus(., stripWhitespace):\n",
      "“transformation drops documents”\n"
     ]
    }
   ],
   "source": [
    "# make corpus\n",
    "echidna_corpus <- Corpus(VectorSource(echidna$stripped_text))\n",
    "\n",
    "# all lower case, remove whitespace, numbers\n",
    "echidna_corpus <- echidna_corpus %>% tm_map(content_transformer(tolower)) %>% tm_map(removeNumbers) %>% tm_map(stripWhitespace)\n"
   ]
  },
  {
   "cell_type": "markdown",
   "metadata": {
    "id": "WIqA-oa-Bswi"
   },
   "source": [
    "### Doing some counting\n",
    "Now we can get the most basic numbers for our corpus: how many tokens and how many types do we have? We will do this by creating a matrix where each row represents a document and each column represents a type. The number of columns is the number of types, and we can get the number of tokens either as the sum of the sums of each row or as the sum of the sums of each column."
   ]
  },
  {
   "cell_type": "code",
   "execution_count": 5,
   "metadata": {
    "colab": {
     "base_uri": "https://localhost:8080/"
    },
    "executionInfo": {
     "elapsed": 1256,
     "status": "ok",
     "timestamp": 1637622169754,
     "user": {
      "displayName": "Simon Musgrave",
      "photoUrl": "https://lh3.googleusercontent.com/a-/AOh14GguuB-J34iqcVjnFCISWHi0cw7BIxBP5Hgb2bMf=s64",
      "userId": "03928625455580756316"
     },
     "user_tz": -660
    },
    "id": "bBdKHwuKBuZX",
    "outputId": "e4a726ca-9a1b-4bcf-a17d-76f30187857c"
   },
   "outputs": [
    {
     "name": "stdout",
     "output_type": "stream",
     "text": [
      "[1] \"Tokens: 39317\"\n",
      "[1] \"Types: 7023\"\n"
     ]
    }
   ],
   "source": [
    "# create document-term matrix\n",
    "dtm <- DocumentTermMatrix(echidna_corpus)\n",
    "# get word frequency list\n",
    "# token count \n",
    "tokens1 <- sum(rowSums(as.matrix(dtm)))\n",
    "print(paste0(\"Tokens: \", tokens1))\n",
    "# collapse matrix by summing over columns\n",
    "freq <- colSums(as.matrix(dtm))\n",
    "# length should be total number of terms - type count\n",
    "print(paste0('Types: ',length(freq)))"
   ]
  },
  {
   "cell_type": "markdown",
   "metadata": {
    "id": "qSKwSCPGCExA"
   },
   "source": [
    "### Looking at frequency\n",
    "Now we can look at what are the most frequently occurring types in our corpus. We already have the column sums, the number of tokens for each type, in the matrix object ``freq``. Now we sort the matrix in descending order and view the 20 most frequent types."
   ]
  },
  {
   "cell_type": "code",
   "execution_count": 6,
   "metadata": {
    "colab": {
     "base_uri": "https://localhost:8080/",
     "height": 52
    },
    "executionInfo": {
     "elapsed": 501,
     "status": "ok",
     "timestamp": 1637622176642,
     "user": {
      "displayName": "Simon Musgrave",
      "photoUrl": "https://lh3.googleusercontent.com/a-/AOh14GguuB-J34iqcVjnFCISWHi0cw7BIxBP5Hgb2bMf=s64",
      "userId": "03928625455580756316"
     },
     "user_tz": -660
    },
    "id": "SDhyqtoYCFxI",
    "outputId": "b384d09a-f201-4a3b-ff35-5a234b7cf580"
   },
   "outputs": [
    {
     "data": {
      "text/html": [
       "<style>\n",
       ".dl-inline {width: auto; margin:0; padding: 0}\n",
       ".dl-inline>dt, .dl-inline>dd {float: none; width: auto; display: inline-block}\n",
       ".dl-inline>dt::after {content: \":\\0020\"; padding-right: .5ex}\n",
       ".dl-inline>dt:not(:first-of-type) {padding-left: .5ex}\n",
       "</style><dl class=dl-inline><dt>echidna</dt><dd>2266</dd><dt>the</dt><dd>1750</dd><dt>and</dt><dd>880</dd><dt>for</dt><dd>477</dd><dt>you</dt><dd>344</dd><dt>knuckles</dt><dd>304</dd><dt>@lady_echidna</dt><dd>299</dd><dt>this</dt><dd>251</dd><dt>with</dt><dd>251</dd><dt>that</dt><dd>230</dd><dt>orangeheart</dt><dd>217</dd><dt>but</dt><dd>216</dd><dt>from</dt><dd>201</dd><dt>cool</dt><dd>189</dd><dt>blackheart</dt><dd>184</dd><dt>not</dt><dd>177</dd><dt>art]</dt><dd>174</dd><dt>portion</dt><dd>174</dd><dt>like</dt><dd>167</dd><dt>more</dt><dd>162</dd></dl>\n"
      ],
      "text/latex": [
       "\\begin{description*}\n",
       "\\item[echidna] 2266\n",
       "\\item[the] 1750\n",
       "\\item[and] 880\n",
       "\\item[for] 477\n",
       "\\item[you] 344\n",
       "\\item[knuckles] 304\n",
       "\\item[@lady\\textbackslash{}\\_echidna] 299\n",
       "\\item[this] 251\n",
       "\\item[with] 251\n",
       "\\item[that] 230\n",
       "\\item[orangeheart] 217\n",
       "\\item[but] 216\n",
       "\\item[from] 201\n",
       "\\item[cool] 189\n",
       "\\item[blackheart] 184\n",
       "\\item[not] 177\n",
       "\\item[art\\{{]}\\}] 174\n",
       "\\item[portion] 174\n",
       "\\item[like] 167\n",
       "\\item[more] 162\n",
       "\\end{description*}\n"
      ],
      "text/markdown": [
       "echidna\n",
       ":   2266the\n",
       ":   1750and\n",
       ":   880for\n",
       ":   477you\n",
       ":   344knuckles\n",
       ":   304@lady_echidna\n",
       ":   299this\n",
       ":   251with\n",
       ":   251that\n",
       ":   230orangeheart\n",
       ":   217but\n",
       ":   216from\n",
       ":   201cool\n",
       ":   189blackheart\n",
       ":   184not\n",
       ":   177art]\n",
       ":   174portion\n",
       ":   174like\n",
       ":   167more\n",
       ":   162\n",
       "\n"
      ],
      "text/plain": [
       "      echidna           the           and           for           you \n",
       "         2266          1750           880           477           344 \n",
       "     knuckles @lady_echidna          this          with          that \n",
       "          304           299           251           251           230 \n",
       "  orangeheart           but          from          cool    blackheart \n",
       "          217           216           201           189           184 \n",
       "          not          art]       portion          like          more \n",
       "          177           174           174           167           162 "
      ]
     },
     "metadata": {},
     "output_type": "display_data"
    }
   ],
   "source": [
    "# create sort order (descending)\n",
    "ord <- order(freq,decreasing=TRUE)\n",
    "# List top 20 terms in decreasing order of freq\n",
    "freq[ord][0:20]\n"
   ]
  },
  {
   "cell_type": "markdown",
   "metadata": {
    "id": "4bffUKS0CWDL"
   },
   "source": [
    "### Function words and content words\n",
    "These results are what we would expect to see for most samples of English text: function words like *the* and *and* are very common. The 20 most frequent words in the British National Corpus are *the, of, and, a, in, to, it, is, was, to, i, for, you, he, be, with, on, that, by, at*, all function words. \n",
    "\n",
    "Are there differences between the BNC list and the most frequent words in our data? Can we make any sense of these differences?\n",
    "\n",
    "In text analysis, it is very common to use a **stop list**, that is a list of words which will be removed from the corpus before any analysis is performed. We will apply a stop list to our corpus and see what difference this makes to the list of most frequent words. (You can ignore the warning message again)"
   ]
  },
  {
   "cell_type": "code",
   "execution_count": 7,
   "metadata": {
    "colab": {
     "base_uri": "https://localhost:8080/",
     "height": 88
    },
    "executionInfo": {
     "elapsed": 749,
     "status": "ok",
     "timestamp": 1637622203119,
     "user": {
      "displayName": "Simon Musgrave",
      "photoUrl": "https://lh3.googleusercontent.com/a-/AOh14GguuB-J34iqcVjnFCISWHi0cw7BIxBP5Hgb2bMf=s64",
      "userId": "03928625455580756316"
     },
     "user_tz": -660
    },
    "id": "VwIeWp-gCoHM",
    "outputId": "31f1bbd2-dbca-4623-a505-caa6c1b090cb"
   },
   "outputs": [
    {
     "name": "stderr",
     "output_type": "stream",
     "text": [
      "Warning message in tm_map.SimpleCorpus(echidna_corpus, removeWords, stopwords(\"english\")):\n",
      "“transformation drops documents”\n"
     ]
    },
    {
     "data": {
      "text/html": [
       "<style>\n",
       ".dl-inline {width: auto; margin:0; padding: 0}\n",
       ".dl-inline>dt, .dl-inline>dd {float: none; width: auto; display: inline-block}\n",
       ".dl-inline>dt::after {content: \":\\0020\"; padding-right: .5ex}\n",
       ".dl-inline>dt:not(:first-of-type) {padding-left: .5ex}\n",
       "</style><dl class=dl-inline><dt>echidna</dt><dd>2266</dd><dt>knuckles</dt><dd>304</dd><dt>@lady_echidna</dt><dd>299</dd><dt>orangeheart</dt><dd>217</dd><dt>cool</dt><dd>189</dd><dt>blackheart</dt><dd>184</dd><dt>art]</dt><dd>174</dd><dt>portion</dt><dd>174</dd><dt>like</dt><dd>167</dd><dt>sonic</dt><dd>161</dd><dt>zero</dt><dd>144</dd><dt>image</dt><dd>141</dd><dt>can</dt><dd>112</dd><dt>just</dt><dd>108</dd><dt>@xkmi_</dt><dd>104</dd><dt>confidence</dt><dd>104</dd><dt>prediction</dt><dd>104</dd><dt>submission</dt><dd>104</dd><dt>rezero</dt><dd>99</dd><dt>que</dt><dd>96</dd></dl>\n"
      ],
      "text/latex": [
       "\\begin{description*}\n",
       "\\item[echidna] 2266\n",
       "\\item[knuckles] 304\n",
       "\\item[@lady\\textbackslash{}\\_echidna] 299\n",
       "\\item[orangeheart] 217\n",
       "\\item[cool] 189\n",
       "\\item[blackheart] 184\n",
       "\\item[art\\{{]}\\}] 174\n",
       "\\item[portion] 174\n",
       "\\item[like] 167\n",
       "\\item[sonic] 161\n",
       "\\item[zero] 144\n",
       "\\item[image] 141\n",
       "\\item[can] 112\n",
       "\\item[just] 108\n",
       "\\item[@xkmi\\textbackslash{}\\_] 104\n",
       "\\item[confidence] 104\n",
       "\\item[prediction] 104\n",
       "\\item[submission] 104\n",
       "\\item[rezero] 99\n",
       "\\item[que] 96\n",
       "\\end{description*}\n"
      ],
      "text/markdown": [
       "echidna\n",
       ":   2266knuckles\n",
       ":   304@lady_echidna\n",
       ":   299orangeheart\n",
       ":   217cool\n",
       ":   189blackheart\n",
       ":   184art]\n",
       ":   174portion\n",
       ":   174like\n",
       ":   167sonic\n",
       ":   161zero\n",
       ":   144image\n",
       ":   141can\n",
       ":   112just\n",
       ":   108@xkmi_\n",
       ":   104confidence\n",
       ":   104prediction\n",
       ":   104submission\n",
       ":   104rezero\n",
       ":   99que\n",
       ":   96\n",
       "\n"
      ],
      "text/plain": [
       "      echidna      knuckles @lady_echidna   orangeheart          cool \n",
       "         2266           304           299           217           189 \n",
       "   blackheart          art]       portion          like         sonic \n",
       "          184           174           174           167           161 \n",
       "         zero         image           can          just        @xkmi_ \n",
       "          144           141           112           108           104 \n",
       "   confidence    prediction    submission        rezero           que \n",
       "          104           104           104            99            96 "
      ]
     },
     "metadata": {},
     "output_type": "display_data"
    }
   ],
   "source": [
    "# remove stopwords\n",
    "docs1_stop <- tm_map(echidna_corpus, removeWords, stopwords(\"english\"))\n",
    "dtm <- DocumentTermMatrix(docs1_stop)\n",
    "freq <- colSums(as.matrix(dtm))\n",
    "ord <- order(freq,decreasing=TRUE)\n",
    "freq[ord][0:20]"
   ]
  },
  {
   "cell_type": "markdown",
   "metadata": {
    "id": "m56dmBBhDIc1"
   },
   "source": [
    "### Comparing frequency\n",
    "We want to compare frequencies across two corpora, but we cannot do this by just comparing the counts directly because the corpora may differ in size. We expect that there will be more tokens of a given type in a larger corpus than in a smaller corpus just because of the difference in size, but we are interested in the relative frequency of types in the two corpora. To make this comparison possible, we need to **normalise** our frequency counts to some fixed number of tokens. Here, we will normalise frequency per 100k tokens. We also save the data for the 20 most common types as a data frame - we will use this when we make a visual comparison of the two text collections."
   ]
  },
  {
   "cell_type": "code",
   "execution_count": 8,
   "metadata": {
    "colab": {
     "base_uri": "https://localhost:8080/",
     "height": 725
    },
    "executionInfo": {
     "elapsed": 341,
     "status": "ok",
     "timestamp": 1637622232240,
     "user": {
      "displayName": "Simon Musgrave",
      "photoUrl": "https://lh3.googleusercontent.com/a-/AOh14GguuB-J34iqcVjnFCISWHi0cw7BIxBP5Hgb2bMf=s64",
      "userId": "03928625455580756316"
     },
     "user_tz": -660
    },
    "id": "88UTAc9iDUYD",
    "outputId": "9cad20da-e134-4236-950e-e18170929ee9"
   },
   "outputs": [
    {
     "data": {
      "text/html": [
       "<table class=\"dataframe\">\n",
       "<caption>A data.frame: 20 × 3</caption>\n",
       "<thead>\n",
       "\t<tr><th></th><th scope=col>types</th><th scope=col>freq</th><th scope=col>norm_freq</th></tr>\n",
       "\t<tr><th></th><th scope=col>&lt;chr&gt;</th><th scope=col>&lt;dbl&gt;</th><th scope=col>&lt;dbl&gt;</th></tr>\n",
       "</thead>\n",
       "<tbody>\n",
       "\t<tr><th scope=row>echidna</th><td>echidna      </td><td>2266</td><td>5763.4102</td></tr>\n",
       "\t<tr><th scope=row>knuckles</th><td>knuckles     </td><td> 304</td><td> 773.2024</td></tr>\n",
       "\t<tr><th scope=row>@lady_echidna</th><td>@lady_echidna</td><td> 299</td><td> 760.4853</td></tr>\n",
       "\t<tr><th scope=row>orangeheart</th><td>orangeheart  </td><td> 217</td><td> 551.9241</td></tr>\n",
       "\t<tr><th scope=row>cool</th><td>cool         </td><td> 189</td><td> 480.7081</td></tr>\n",
       "\t<tr><th scope=row>blackheart</th><td>blackheart   </td><td> 184</td><td> 467.9909</td></tr>\n",
       "\t<tr><th scope=row>art]</th><td>art]         </td><td> 174</td><td> 442.5567</td></tr>\n",
       "\t<tr><th scope=row>portion</th><td>portion      </td><td> 174</td><td> 442.5567</td></tr>\n",
       "\t<tr><th scope=row>like</th><td>like         </td><td> 167</td><td> 424.7527</td></tr>\n",
       "\t<tr><th scope=row>sonic</th><td>sonic        </td><td> 161</td><td> 409.4921</td></tr>\n",
       "\t<tr><th scope=row>zero</th><td>zero         </td><td> 144</td><td> 366.2538</td></tr>\n",
       "\t<tr><th scope=row>image</th><td>image        </td><td> 141</td><td> 358.6235</td></tr>\n",
       "\t<tr><th scope=row>can</th><td>can          </td><td> 112</td><td> 284.8641</td></tr>\n",
       "\t<tr><th scope=row>just</th><td>just         </td><td> 108</td><td> 274.6903</td></tr>\n",
       "\t<tr><th scope=row>@xkmi_</th><td>@xkmi_       </td><td> 104</td><td> 264.5166</td></tr>\n",
       "\t<tr><th scope=row>confidence</th><td>confidence   </td><td> 104</td><td> 264.5166</td></tr>\n",
       "\t<tr><th scope=row>prediction</th><td>prediction   </td><td> 104</td><td> 264.5166</td></tr>\n",
       "\t<tr><th scope=row>submission</th><td>submission   </td><td> 104</td><td> 264.5166</td></tr>\n",
       "\t<tr><th scope=row>rezero</th><td>rezero       </td><td>  99</td><td> 251.7995</td></tr>\n",
       "\t<tr><th scope=row>que</th><td>que          </td><td>  96</td><td> 244.1692</td></tr>\n",
       "</tbody>\n",
       "</table>\n"
      ],
      "text/latex": [
       "A data.frame: 20 × 3\n",
       "\\begin{tabular}{r|lll}\n",
       "  & types & freq & norm\\_freq\\\\\n",
       "  & <chr> & <dbl> & <dbl>\\\\\n",
       "\\hline\n",
       "\techidna & echidna       & 2266 & 5763.4102\\\\\n",
       "\tknuckles & knuckles      &  304 &  773.2024\\\\\n",
       "\t@lady\\_echidna & @lady\\_echidna &  299 &  760.4853\\\\\n",
       "\torangeheart & orangeheart   &  217 &  551.9241\\\\\n",
       "\tcool & cool          &  189 &  480.7081\\\\\n",
       "\tblackheart & blackheart    &  184 &  467.9909\\\\\n",
       "\tart{]} & art{]}          &  174 &  442.5567\\\\\n",
       "\tportion & portion       &  174 &  442.5567\\\\\n",
       "\tlike & like          &  167 &  424.7527\\\\\n",
       "\tsonic & sonic         &  161 &  409.4921\\\\\n",
       "\tzero & zero          &  144 &  366.2538\\\\\n",
       "\timage & image         &  141 &  358.6235\\\\\n",
       "\tcan & can           &  112 &  284.8641\\\\\n",
       "\tjust & just          &  108 &  274.6903\\\\\n",
       "\t@xkmi\\_ & @xkmi\\_        &  104 &  264.5166\\\\\n",
       "\tconfidence & confidence    &  104 &  264.5166\\\\\n",
       "\tprediction & prediction    &  104 &  264.5166\\\\\n",
       "\tsubmission & submission    &  104 &  264.5166\\\\\n",
       "\trezero & rezero        &   99 &  251.7995\\\\\n",
       "\tque & que           &   96 &  244.1692\\\\\n",
       "\\end{tabular}\n"
      ],
      "text/markdown": [
       "\n",
       "A data.frame: 20 × 3\n",
       "\n",
       "| <!--/--> | types &lt;chr&gt; | freq &lt;dbl&gt; | norm_freq &lt;dbl&gt; |\n",
       "|---|---|---|---|\n",
       "| echidna | echidna       | 2266 | 5763.4102 |\n",
       "| knuckles | knuckles      |  304 |  773.2024 |\n",
       "| @lady_echidna | @lady_echidna |  299 |  760.4853 |\n",
       "| orangeheart | orangeheart   |  217 |  551.9241 |\n",
       "| cool | cool          |  189 |  480.7081 |\n",
       "| blackheart | blackheart    |  184 |  467.9909 |\n",
       "| art] | art]          |  174 |  442.5567 |\n",
       "| portion | portion       |  174 |  442.5567 |\n",
       "| like | like          |  167 |  424.7527 |\n",
       "| sonic | sonic         |  161 |  409.4921 |\n",
       "| zero | zero          |  144 |  366.2538 |\n",
       "| image | image         |  141 |  358.6235 |\n",
       "| can | can           |  112 |  284.8641 |\n",
       "| just | just          |  108 |  274.6903 |\n",
       "| @xkmi_ | @xkmi_        |  104 |  264.5166 |\n",
       "| confidence | confidence    |  104 |  264.5166 |\n",
       "| prediction | prediction    |  104 |  264.5166 |\n",
       "| submission | submission    |  104 |  264.5166 |\n",
       "| rezero | rezero        |   99 |  251.7995 |\n",
       "| que | que           |   96 |  244.1692 |\n",
       "\n"
      ],
      "text/plain": [
       "              types         freq norm_freq\n",
       "echidna       echidna       2266 5763.4102\n",
       "knuckles      knuckles       304  773.2024\n",
       "@lady_echidna @lady_echidna  299  760.4853\n",
       "orangeheart   orangeheart    217  551.9241\n",
       "cool          cool           189  480.7081\n",
       "blackheart    blackheart     184  467.9909\n",
       "art]          art]           174  442.5567\n",
       "portion       portion        174  442.5567\n",
       "like          like           167  424.7527\n",
       "sonic         sonic          161  409.4921\n",
       "zero          zero           144  366.2538\n",
       "image         image          141  358.6235\n",
       "can           can            112  284.8641\n",
       "just          just           108  274.6903\n",
       "@xkmi_        @xkmi_         104  264.5166\n",
       "confidence    confidence     104  264.5166\n",
       "prediction    prediction     104  264.5166\n",
       "submission    submission     104  264.5166\n",
       "rezero        rezero          99  251.7995\n",
       "que           que             96  244.1692"
      ]
     },
     "metadata": {},
     "output_type": "display_data"
    }
   ],
   "source": [
    "# make freq a data frame, add normalised freq\n",
    "types <- names(freq)\n",
    "freq_df <- data.frame(types, freq)\n",
    "ord_freq_C1 <- freq_df[order(freq, decreasing = TRUE),]\n",
    "ord_freq_C1['norm_freq'] <- ord_freq_C1$freq/(tokens1/100000)\n",
    "ord_freq_C1[0:20,]\n",
    "# store top 20 words for future use\n",
    "top20_echidna <- ord_freq_C1[0:20,]"
   ]
  },
  {
   "cell_type": "markdown",
   "metadata": {
    "id": "vtt-8q5RKPEv"
   },
   "source": [
    "### Getting data from the second corpus\n",
    "\n",
    "Now, we will repeat our procedures for the second corpus - we won't bother with showing the frequent types without the stop list. "
   ]
  },
  {
   "cell_type": "code",
   "execution_count": 9,
   "metadata": {
    "colab": {
     "base_uri": "https://localhost:8080/",
     "height": 946
    },
    "executionInfo": {
     "elapsed": 11016,
     "status": "ok",
     "timestamp": 1637622286158,
     "user": {
      "displayName": "Simon Musgrave",
      "photoUrl": "https://lh3.googleusercontent.com/a-/AOh14GguuB-J34iqcVjnFCISWHi0cw7BIxBP5Hgb2bMf=s64",
      "userId": "03928625455580756316"
     },
     "user_tz": -660
    },
    "id": "TJ0hi_ROKVoo",
    "outputId": "f18722fc-a275-4123-e199-fc6af107954c"
   },
   "outputs": [
    {
     "name": "stderr",
     "output_type": "stream",
     "text": [
      "Warning message in tm_map.SimpleCorpus(., content_transformer(tolower)):\n",
      "“transformation drops documents”\n",
      "Warning message in tm_map.SimpleCorpus(., removeNumbers):\n",
      "“transformation drops documents”\n",
      "Warning message in tm_map.SimpleCorpus(., stripWhitespace):\n",
      "“transformation drops documents”\n"
     ]
    },
    {
     "name": "stdout",
     "output_type": "stream",
     "text": [
      "[1] \"Tokens: 77056\"\n"
     ]
    },
    {
     "name": "stderr",
     "output_type": "stream",
     "text": [
      "Warning message in tm_map.SimpleCorpus(platypus_corpus, removeWords, stopwords(\"english\")):\n",
      "“transformation drops documents”\n"
     ]
    },
    {
     "name": "stdout",
     "output_type": "stream",
     "text": [
      "[1] \"Types: 11827\"\n"
     ]
    },
    {
     "data": {
      "text/html": [
       "<table class=\"dataframe\">\n",
       "<caption>A data.frame: 20 × 3</caption>\n",
       "<thead>\n",
       "\t<tr><th></th><th scope=col>types</th><th scope=col>freq</th><th scope=col>norm_freq</th></tr>\n",
       "\t<tr><th></th><th scope=col>&lt;chr&gt;</th><th scope=col>&lt;dbl&gt;</th><th scope=col>&lt;dbl&gt;</th></tr>\n",
       "</thead>\n",
       "<tbody>\n",
       "\t<tr><th scope=row>platypus</th><td>platypus       </td><td>3390</td><td>4399.3978</td></tr>\n",
       "\t<tr><th scope=row>perry</th><td>perry          </td><td>1269</td><td>1646.8542</td></tr>\n",
       "\t<tr><th scope=row>baby</th><td>baby           </td><td> 560</td><td> 726.7442</td></tr>\n",
       "\t<tr><th scope=row>keycap:#</th><td>keycap:#       </td><td> 555</td><td> 720.2554</td></tr>\n",
       "\t<tr><th scope=row>like</th><td>like           </td><td> 552</td><td> 716.3621</td></tr>\n",
       "\t<tr><th scope=row>puts</th><td>puts           </td><td> 538</td><td> 698.1935</td></tr>\n",
       "\t<tr><th scope=row>\"perry</th><td>\"perry         </td><td> 535</td><td> 694.3002</td></tr>\n",
       "\t<tr><th scope=row>wrappedgift</th><td>wrappedgift    </td><td> 513</td><td> 665.7496</td></tr>\n",
       "\t<tr><th scope=row>fire</th><td>fire           </td><td> 486</td><td> 630.7101</td></tr>\n",
       "\t<tr><th scope=row>platypus:</th><td>platypus:      </td><td> 464</td><td> 602.1595</td></tr>\n",
       "\t<tr><th scope=row>god:</th><td>god:           </td><td> 445</td><td> 577.5021</td></tr>\n",
       "\t<tr><th scope=row>know</th><td>know           </td><td> 410</td><td> 532.0806</td></tr>\n",
       "\t<tr><th scope=row>called</th><td>called         </td><td> 339</td><td> 439.9398</td></tr>\n",
       "\t<tr><th scope=row>&amp;amp;</th><td><span style=white-space:pre-wrap>&amp;amp;          </span></td><td> 306</td><td> 397.1138</td></tr>\n",
       "\t<tr><th scope=row>one</th><td>one            </td><td> 280</td><td> 363.3721</td></tr>\n",
       "\t<tr><th scope=row>platypus?\"</th><td>platypus?\"     </td><td> 272</td><td> 352.9900</td></tr>\n",
       "\t<tr><th scope=row>just</th><td>just           </td><td> 269</td><td> 349.0968</td></tr>\n",
       "\t<tr><th scope=row>doofenschmirtz:</th><td>doofenschmirtz:</td><td> 265</td><td> 343.9057</td></tr>\n",
       "\t<tr><th scope=row>platypus??\"</th><td>platypus??\"    </td><td> 265</td><td> 343.9057</td></tr>\n",
       "\t<tr><th scope=row>fedora:</th><td>fedora:        </td><td> 264</td><td> 342.6080</td></tr>\n",
       "</tbody>\n",
       "</table>\n"
      ],
      "text/latex": [
       "A data.frame: 20 × 3\n",
       "\\begin{tabular}{r|lll}\n",
       "  & types & freq & norm\\_freq\\\\\n",
       "  & <chr> & <dbl> & <dbl>\\\\\n",
       "\\hline\n",
       "\tplatypus & platypus        & 3390 & 4399.3978\\\\\n",
       "\tperry & perry           & 1269 & 1646.8542\\\\\n",
       "\tbaby & baby            &  560 &  726.7442\\\\\n",
       "\tkeycap:\\# & keycap:\\#        &  555 &  720.2554\\\\\n",
       "\tlike & like            &  552 &  716.3621\\\\\n",
       "\tputs & puts            &  538 &  698.1935\\\\\n",
       "\t\"perry & \"perry          &  535 &  694.3002\\\\\n",
       "\twrappedgift & wrappedgift     &  513 &  665.7496\\\\\n",
       "\tfire & fire            &  486 &  630.7101\\\\\n",
       "\tplatypus: & platypus:       &  464 &  602.1595\\\\\n",
       "\tgod: & god:            &  445 &  577.5021\\\\\n",
       "\tknow & know            &  410 &  532.0806\\\\\n",
       "\tcalled & called          &  339 &  439.9398\\\\\n",
       "\t\\&amp; & \\&amp;           &  306 &  397.1138\\\\\n",
       "\tone & one             &  280 &  363.3721\\\\\n",
       "\tplatypus?\" & platypus?\"      &  272 &  352.9900\\\\\n",
       "\tjust & just            &  269 &  349.0968\\\\\n",
       "\tdoofenschmirtz: & doofenschmirtz: &  265 &  343.9057\\\\\n",
       "\tplatypus??\" & platypus??\"     &  265 &  343.9057\\\\\n",
       "\tfedora: & fedora:         &  264 &  342.6080\\\\\n",
       "\\end{tabular}\n"
      ],
      "text/markdown": [
       "\n",
       "A data.frame: 20 × 3\n",
       "\n",
       "| <!--/--> | types &lt;chr&gt; | freq &lt;dbl&gt; | norm_freq &lt;dbl&gt; |\n",
       "|---|---|---|---|\n",
       "| platypus | platypus        | 3390 | 4399.3978 |\n",
       "| perry | perry           | 1269 | 1646.8542 |\n",
       "| baby | baby            |  560 |  726.7442 |\n",
       "| keycap:# | keycap:#        |  555 |  720.2554 |\n",
       "| like | like            |  552 |  716.3621 |\n",
       "| puts | puts            |  538 |  698.1935 |\n",
       "| \"perry | \"perry          |  535 |  694.3002 |\n",
       "| wrappedgift | wrappedgift     |  513 |  665.7496 |\n",
       "| fire | fire            |  486 |  630.7101 |\n",
       "| platypus: | platypus:       |  464 |  602.1595 |\n",
       "| god: | god:            |  445 |  577.5021 |\n",
       "| know | know            |  410 |  532.0806 |\n",
       "| called | called          |  339 |  439.9398 |\n",
       "| &amp;amp; | &amp;amp;           |  306 |  397.1138 |\n",
       "| one | one             |  280 |  363.3721 |\n",
       "| platypus?\" | platypus?\"      |  272 |  352.9900 |\n",
       "| just | just            |  269 |  349.0968 |\n",
       "| doofenschmirtz: | doofenschmirtz: |  265 |  343.9057 |\n",
       "| platypus??\" | platypus??\"     |  265 |  343.9057 |\n",
       "| fedora: | fedora:         |  264 |  342.6080 |\n",
       "\n"
      ],
      "text/plain": [
       "                types           freq norm_freq\n",
       "platypus        platypus        3390 4399.3978\n",
       "perry           perry           1269 1646.8542\n",
       "baby            baby             560  726.7442\n",
       "keycap:#        keycap:#         555  720.2554\n",
       "like            like             552  716.3621\n",
       "puts            puts             538  698.1935\n",
       "\"perry          \"perry           535  694.3002\n",
       "wrappedgift     wrappedgift      513  665.7496\n",
       "fire            fire             486  630.7101\n",
       "platypus:       platypus:        464  602.1595\n",
       "god:            god:             445  577.5021\n",
       "know            know             410  532.0806\n",
       "called          called           339  439.9398\n",
       "&amp;           &amp;            306  397.1138\n",
       "one             one              280  363.3721\n",
       "platypus?\"      platypus?\"       272  352.9900\n",
       "just            just             269  349.0968\n",
       "doofenschmirtz: doofenschmirtz:  265  343.9057\n",
       "platypus??\"     platypus??\"      265  343.9057\n",
       "fedora:         fedora:          264  342.6080"
      ]
     },
     "metadata": {},
     "output_type": "display_data"
    }
   ],
   "source": [
    "# corpus2\n",
    "# read data as csv file, read text as vector, create corpus\n",
    "platypus <- read.csv(\"platypus_minimal.csv\", header = TRUE, stringsAsFactors = FALSE, encoding = \"UTF-8\")\n",
    "# remove urls\n",
    "platypus$stripped_text <- gsub(\"http.*\",\"\",  platypus$text)\n",
    "platypus$stripped_text <- gsub(\"https.*\",\"\", platypus$stripped_text)\n",
    "# remove new lines\n",
    "platypus$stripped_text <- gsub(\"\\\\n\",\" \", platypus$stripped_text, fixed = TRUE)\n",
    "# change # and @ to text \n",
    "platypus$stripped_text <- gsub(\"#\",\"HASH\", platypus$stripped_text)\n",
    "platypus$stripped_text <- gsub(\"@\",\"AT\", platypus$stripped_text)\n",
    "\n",
    "platypus$stripped_text <- stri_replace_all_regex(platypus$stripped_text, pattern = emoji.chars, replacement = paste(emoji.descriptions,\" \"), vectorize_all=FALSE)\n",
    "\n",
    "# make corpus\n",
    "platypus_corpus <- Corpus(VectorSource(platypus$stripped_text))\n",
    "\n",
    "# all lower case,remove punctuation, numbers\n",
    "platypus_corpus <- platypus_corpus %>% tm_map(content_transformer(tolower)) %>% tm_map(removeNumbers) %>% tm_map(stripWhitespace)\n",
    "\n",
    "# create document-term matrix\n",
    "dtm <- DocumentTermMatrix(platypus_corpus)\n",
    "#get word frequency list\n",
    "# token count \n",
    "tokens2 <- sum(rowSums(as.matrix(dtm)))\n",
    "print(paste0(\"Tokens: \", tokens2))\n",
    "# remove stopwords\n",
    "docs2_stop <- tm_map(platypus_corpus, removeWords, stopwords(\"english\"))\n",
    "# create document-term matrix\n",
    "dtm <- DocumentTermMatrix(docs2_stop)\n",
    "# collapse matrix by summing over columns\n",
    "freq <- colSums(as.matrix(dtm))\n",
    "# length should be total number of terms - type count\n",
    "print(paste0('Types: ',length(freq)))\n",
    "# create sort order (descending)\n",
    "ord <- order(freq,decreasing=TRUE)\n",
    "# make freq a data frame, add normalised freq\n",
    "types <- names(freq)\n",
    "freq_df <- data.frame(types, freq)\n",
    "ord_freq_C2 <- freq_df[order(freq, decreasing = TRUE),]\n",
    "ord_freq_C2['norm_freq'] <- ord_freq_C2$freq/(tokens2/100000)\n",
    "ord_freq_C2[0:20,]\n",
    "# inspect data\n",
    "top20_C2 <- ord_freq_C2[0:20,]"
   ]
  },
  {
   "cell_type": "markdown",
   "metadata": {
    "id": "lGVFnrbPKdyL"
   },
   "source": [
    "### Making a visualisation\n",
    "The lists of 20 most frequent types overlap a little, but they are certainly not identical. We want to include all the words from both lists, so we combine them and then use the ``unique()`` function to get rid of duplicates. Two bar charts side by side is one way to visualise this data; the R base function ``barplot()`` will do this, but it needs the data as rows of a table."
   ]
  },
  {
   "cell_type": "code",
   "execution_count": 10,
   "metadata": {
    "colab": {
     "base_uri": "https://localhost:8080/",
     "height": 149
    },
    "executionInfo": {
     "elapsed": 348,
     "status": "ok",
     "timestamp": 1637622413876,
     "user": {
      "displayName": "Simon Musgrave",
      "photoUrl": "https://lh3.googleusercontent.com/a-/AOh14GguuB-J34iqcVjnFCISWHi0cw7BIxBP5Hgb2bMf=s64",
      "userId": "03928625455580756316"
     },
     "user_tz": -660
    },
    "id": "D8KVxwFxKv6A",
    "outputId": "3f7fe6e0-009f-4233-8ef9-2e46d9a8775b"
   },
   "outputs": [
    {
     "data": {
      "text/html": [
       "<table class=\"dataframe\">\n",
       "<caption>A matrix: 2 × 38 of type dbl</caption>\n",
       "<thead>\n",
       "\t<tr><th></th><th scope=col>echidna</th><th scope=col>knuckles</th><th scope=col>@lady_echidna</th><th scope=col>orangeheart</th><th scope=col>cool</th><th scope=col>blackheart</th><th scope=col>art]</th><th scope=col>portion</th><th scope=col>like</th><th scope=col>sonic</th><th scope=col>⋯</th><th scope=col>platypus:</th><th scope=col>god:</th><th scope=col>know</th><th scope=col>called</th><th scope=col>&amp;amp;</th><th scope=col>one</th><th scope=col>platypus?\"</th><th scope=col>doofenschmirtz:</th><th scope=col>platypus??\"</th><th scope=col>fedora:</th></tr>\n",
       "</thead>\n",
       "<tbody>\n",
       "\t<tr><th scope=row>C1</th><td>5763.410230</td><td>773.202432</td><td>760.4853</td><td>551.924104</td><td>480.70809</td><td>467.99095</td><td>442.55665</td><td>442.5567</td><td>424.7527</td><td>409.49208</td><td>⋯</td><td>      NA</td><td>      NA</td><td>127.1715</td><td> 17.8040</td><td>      NA</td><td>190.7572</td><td>    NA</td><td>      NA</td><td>      NA</td><td>     NA</td></tr>\n",
       "\t<tr><th scope=row>C2</th><td>   6.488787</td><td>  1.297757</td><td>      NA</td><td>  2.595515</td><td> 27.25291</td><td>  5.19103</td><td> 49.31478</td><td>      NA</td><td>716.3621</td><td> 33.74169</td><td>⋯</td><td>602.1595</td><td>577.5021</td><td>532.0806</td><td>439.9398</td><td>397.1138</td><td>363.3721</td><td>352.99</td><td>343.9057</td><td>343.9057</td><td>342.608</td></tr>\n",
       "</tbody>\n",
       "</table>\n"
      ],
      "text/latex": [
       "A matrix: 2 × 38 of type dbl\n",
       "\\begin{tabular}{r|lllllllllllllllllllll}\n",
       "  & echidna & knuckles & @lady\\_echidna & orangeheart & cool & blackheart & art{]} & portion & like & sonic & ⋯ & platypus: & god: & know & called & \\&amp; & one & platypus?\" & doofenschmirtz: & platypus??\" & fedora:\\\\\n",
       "\\hline\n",
       "\tC1 & 5763.410230 & 773.202432 & 760.4853 & 551.924104 & 480.70809 & 467.99095 & 442.55665 & 442.5567 & 424.7527 & 409.49208 & ⋯ &       NA &       NA & 127.1715 &  17.8040 &       NA & 190.7572 &     NA &       NA &       NA &      NA\\\\\n",
       "\tC2 &    6.488787 &   1.297757 &       NA &   2.595515 &  27.25291 &   5.19103 &  49.31478 &       NA & 716.3621 &  33.74169 & ⋯ & 602.1595 & 577.5021 & 532.0806 & 439.9398 & 397.1138 & 363.3721 & 352.99 & 343.9057 & 343.9057 & 342.608\\\\\n",
       "\\end{tabular}\n"
      ],
      "text/markdown": [
       "\n",
       "A matrix: 2 × 38 of type dbl\n",
       "\n",
       "| <!--/--> | echidna | knuckles | @lady_echidna | orangeheart | cool | blackheart | art] | portion | like | sonic | ⋯ | platypus: | god: | know | called | &amp;amp; | one | platypus?\" | doofenschmirtz: | platypus??\" | fedora: |\n",
       "|---|---|---|---|---|---|---|---|---|---|---|---|---|---|---|---|---|---|---|---|---|---|\n",
       "| C1 | 5763.410230 | 773.202432 | 760.4853 | 551.924104 | 480.70809 | 467.99095 | 442.55665 | 442.5567 | 424.7527 | 409.49208 | ⋯ |       NA |       NA | 127.1715 |  17.8040 |       NA | 190.7572 |     NA |       NA |       NA |      NA |\n",
       "| C2 |    6.488787 |   1.297757 |       NA |   2.595515 |  27.25291 |   5.19103 |  49.31478 |       NA | 716.3621 |  33.74169 | ⋯ | 602.1595 | 577.5021 | 532.0806 | 439.9398 | 397.1138 | 363.3721 | 352.99 | 343.9057 | 343.9057 | 342.608 |\n",
       "\n"
      ],
      "text/plain": [
       "   echidna     knuckles   @lady_echidna orangeheart cool      blackheart\n",
       "C1 5763.410230 773.202432 760.4853      551.924104  480.70809 467.99095 \n",
       "C2    6.488787   1.297757       NA        2.595515   27.25291   5.19103 \n",
       "   art]      portion  like     sonic     ⋯ platypus: god:     know     called  \n",
       "C1 442.55665 442.5567 424.7527 409.49208 ⋯       NA        NA 127.1715  17.8040\n",
       "C2  49.31478       NA 716.3621  33.74169 ⋯ 602.1595  577.5021 532.0806 439.9398\n",
       "   &amp;    one      platypus?\" doofenschmirtz: platypus??\" fedora:\n",
       "C1       NA 190.7572     NA           NA              NA         NA\n",
       "C2 397.1138 363.3721 352.99     343.9057        343.9057    342.608"
      ]
     },
     "metadata": {},
     "output_type": "display_data"
    }
   ],
   "source": [
    "# combine the two lists of common types\n",
    "types_combined <- top20_echidna['types']\n",
    "types_combined <- rbind(types_combined, top20_C2['types'])\n",
    "types_combined <- unique(types_combined)\n",
    "# make a matrix with the frequency data in two rows\n",
    "rows <- nrow(types_combined)\n",
    "bar_data <- matrix(1:rows*2, nrow = 2, ncol = rows)\n",
    "# get the normalised frequency values\n",
    "for (i in 1:rows) {\n",
    "    word <- types_combined[i,1]\n",
    "    freq_1 <- subset(ord_freq_C1, types == word)[3]\n",
    "    bar_data[1,i] <- freq_1[1,1]\n",
    "    freq_2 <- subset(ord_freq_C2, types == word)[3]\n",
    "    bar_data[2,i] <- freq_2[1,1]\n",
    "    }\n",
    "\n",
    "rows <- c('C1', 'C2')\n",
    "columns <- types_combined[,1]\n",
    "rownames(bar_data) <- rows\n",
    "colnames(bar_data) <- columns\n",
    "# inspect data\n",
    "bar_data"
   ]
  },
  {
   "cell_type": "markdown",
   "metadata": {
    "id": "vyQCK6C9K4IY"
   },
   "source": [
    "We need to display the types vertically or we won't be able to see them all. Some of them are quite long words, so we reset the lower margin to make sure all of the characters will be visible. We also use the ``las`` parameter to make the text on each axis perpendicular to the axis. And then all that is left to do is to choose some colours that you like!"
   ]
  },
  {
   "cell_type": "code",
   "execution_count": 11,
   "metadata": {
    "colab": {
     "base_uri": "https://localhost:8080/",
     "height": 857
    },
    "executionInfo": {
     "elapsed": 416,
     "status": "ok",
     "timestamp": 1637623279144,
     "user": {
      "displayName": "Simon Musgrave",
      "photoUrl": "https://lh3.googleusercontent.com/a-/AOh14GguuB-J34iqcVjnFCISWHi0cw7BIxBP5Hgb2bMf=s64",
      "userId": "03928625455580756316"
     },
     "user_tz": -660
    },
    "id": "v9e3_DCKLFna",
    "outputId": "49e87c5b-6e73-421e-a7c5-f1c3e32641f6"
   },
   "outputs": [
    {
     "data": {
      "image/png": "[encoded data removed]",
      "text/plain": [
       "Plot with title “Comparative normalised frequencies (per100k)”"
      ]
     },
     "metadata": {
      "image/png": {
       "height": 840,
       "width": 840
      }
     },
     "output_type": "display_data"
    }
   ],
   "source": [
    "# set bottom margin to fit long words\n",
    "options(jupyter.plot_scale=1)\n",
    "par(mar=c(8,4,4,4))\n",
    "barplot(bar_data, beside = TRUE, las = 2, cex.names = 0.6,\n",
    "main = \"Comparative normalised frequencies (per100k)\", col = c(\"cyan\",\"grey\"))\n",
    "legend(\"topright\",\n",
    "c(\"Echidna\",\"Platypus\"),\n",
    "fill = c(\"cyan\",\"grey\"))\n",
    "axis(2, las=1)"
   ]
  },
  {
   "cell_type": "markdown",
   "metadata": {},
   "source": [
    "### Another visualisation\n",
    "\n",
    "The figure we have just produced is informative, but having the bars for each corpus side by side may be even more useful. To produce a plot of this type, we will use the ``ggplot2`` package, which is widely used in preference to R base plot functions. But ``ggplot2`` needs the data in a different shape! We need a data frame (a table) where each row includes a word (a type), the corpus from which the data comes, and the frequency. The next code block does this reshaping and shows you the result."
   ]
  },
  {
   "cell_type": "code",
   "execution_count": 15,
   "metadata": {},
   "outputs": [
    {
     "data": {
      "text/html": [
       "<table class=\"dataframe\">\n",
       "<caption>A data.frame: 76 × 3</caption>\n",
       "<thead>\n",
       "\t<tr><th scope=col>type</th><th scope=col>corpus</th><th scope=col>freq</th></tr>\n",
       "\t<tr><th scope=col>&lt;chr&gt;</th><th scope=col>&lt;chr&gt;</th><th scope=col>&lt;dbl&gt;</th></tr>\n",
       "</thead>\n",
       "<tbody>\n",
       "\t<tr><td>echidna      </td><td>E</td><td>5763.410230</td></tr>\n",
       "\t<tr><td>echidna      </td><td>P</td><td>   6.488787</td></tr>\n",
       "\t<tr><td>knuckles     </td><td>E</td><td> 773.202432</td></tr>\n",
       "\t<tr><td>knuckles     </td><td>P</td><td>   1.297757</td></tr>\n",
       "\t<tr><td>@lady_echidna</td><td>E</td><td> 760.485286</td></tr>\n",
       "\t<tr><td>@lady_echidna</td><td>P</td><td>   0.000000</td></tr>\n",
       "\t<tr><td>orangeheart  </td><td>E</td><td> 551.924104</td></tr>\n",
       "\t<tr><td>orangeheart  </td><td>P</td><td>   2.595515</td></tr>\n",
       "\t<tr><td>cool         </td><td>E</td><td> 480.708091</td></tr>\n",
       "\t<tr><td>cool         </td><td>P</td><td>  27.252907</td></tr>\n",
       "\t<tr><td>blackheart   </td><td>E</td><td> 467.990945</td></tr>\n",
       "\t<tr><td>blackheart   </td><td>P</td><td>   5.191030</td></tr>\n",
       "\t<tr><td>art]         </td><td>E</td><td> 442.556655</td></tr>\n",
       "\t<tr><td>art]         </td><td>P</td><td>  49.314784</td></tr>\n",
       "\t<tr><td>portion      </td><td>E</td><td> 442.556655</td></tr>\n",
       "\t<tr><td>portion      </td><td>P</td><td>   0.000000</td></tr>\n",
       "\t<tr><td>like         </td><td>E</td><td> 424.752652</td></tr>\n",
       "\t<tr><td>like         </td><td>P</td><td> 716.362126</td></tr>\n",
       "\t<tr><td>sonic        </td><td>E</td><td> 409.492077</td></tr>\n",
       "\t<tr><td>sonic        </td><td>P</td><td>  33.741694</td></tr>\n",
       "\t<tr><td>zero         </td><td>E</td><td> 366.253783</td></tr>\n",
       "\t<tr><td>zero         </td><td>P</td><td>   2.595515</td></tr>\n",
       "\t<tr><td>image        </td><td>E</td><td> 358.623496</td></tr>\n",
       "\t<tr><td>image        </td><td>P</td><td>   2.595515</td></tr>\n",
       "\t<tr><td>can          </td><td>E</td><td> 284.864054</td></tr>\n",
       "\t<tr><td>can          </td><td>P</td><td> 211.534468</td></tr>\n",
       "\t<tr><td>just         </td><td>E</td><td> 274.690338</td></tr>\n",
       "\t<tr><td>just         </td><td>P</td><td> 349.096761</td></tr>\n",
       "\t<tr><td>@xkmi_       </td><td>E</td><td> 264.516621</td></tr>\n",
       "\t<tr><td>@xkmi_       </td><td>P</td><td>   0.000000</td></tr>\n",
       "\t<tr><td>⋮</td><td>⋮</td><td>⋮</td></tr>\n",
       "\t<tr><td>keycap:#       </td><td>E</td><td> 96.650304</td></tr>\n",
       "\t<tr><td>keycap:#       </td><td>P</td><td>720.255399</td></tr>\n",
       "\t<tr><td>puts           </td><td>E</td><td>  2.543429</td></tr>\n",
       "\t<tr><td>puts           </td><td>P</td><td>698.193522</td></tr>\n",
       "\t<tr><td>\"perry         </td><td>E</td><td>  0.000000</td></tr>\n",
       "\t<tr><td>\"perry         </td><td>P</td><td>694.300249</td></tr>\n",
       "\t<tr><td>wrappedgift    </td><td>E</td><td>  0.000000</td></tr>\n",
       "\t<tr><td>wrappedgift    </td><td>P</td><td>665.749585</td></tr>\n",
       "\t<tr><td>fire           </td><td>E</td><td> 53.412010</td></tr>\n",
       "\t<tr><td>fire           </td><td>P</td><td>630.710133</td></tr>\n",
       "\t<tr><td>platypus:      </td><td>E</td><td>  0.000000</td></tr>\n",
       "\t<tr><td>platypus:      </td><td>P</td><td>602.159468</td></tr>\n",
       "\t<tr><td>god:           </td><td>E</td><td>  0.000000</td></tr>\n",
       "\t<tr><td>god:           </td><td>P</td><td>577.502076</td></tr>\n",
       "\t<tr><td>know           </td><td>E</td><td>127.171453</td></tr>\n",
       "\t<tr><td>know           </td><td>P</td><td>532.080565</td></tr>\n",
       "\t<tr><td>called         </td><td>E</td><td> 17.804003</td></tr>\n",
       "\t<tr><td>called         </td><td>P</td><td>439.939784</td></tr>\n",
       "\t<tr><td><span style=white-space:pre-wrap>&amp;amp;          </span></td><td>E</td><td><span style=white-space:pre-wrap>  0.000000</span></td></tr>\n",
       "\t<tr><td><span style=white-space:pre-wrap>&amp;amp;          </span></td><td>P</td><td>397.113787</td></tr>\n",
       "\t<tr><td>one            </td><td>E</td><td>190.757179</td></tr>\n",
       "\t<tr><td>one            </td><td>P</td><td>363.372093</td></tr>\n",
       "\t<tr><td>platypus?\"     </td><td>E</td><td>  0.000000</td></tr>\n",
       "\t<tr><td>platypus?\"     </td><td>P</td><td>352.990033</td></tr>\n",
       "\t<tr><td>doofenschmirtz:</td><td>E</td><td>  0.000000</td></tr>\n",
       "\t<tr><td>doofenschmirtz:</td><td>P</td><td>343.905731</td></tr>\n",
       "\t<tr><td>platypus??\"    </td><td>E</td><td>  0.000000</td></tr>\n",
       "\t<tr><td>platypus??\"    </td><td>P</td><td>343.905731</td></tr>\n",
       "\t<tr><td>fedora:        </td><td>E</td><td>  0.000000</td></tr>\n",
       "\t<tr><td>fedora:        </td><td>P</td><td>342.607973</td></tr>\n",
       "</tbody>\n",
       "</table>\n"
      ],
      "text/latex": [
       "A data.frame: 76 × 3\n",
       "\\begin{tabular}{lll}\n",
       " type & corpus & freq\\\\\n",
       " <chr> & <chr> & <dbl>\\\\\n",
       "\\hline\n",
       "\t echidna       & E & 5763.410230\\\\\n",
       "\t echidna       & P &    6.488787\\\\\n",
       "\t knuckles      & E &  773.202432\\\\\n",
       "\t knuckles      & P &    1.297757\\\\\n",
       "\t @lady\\_echidna & E &  760.485286\\\\\n",
       "\t @lady\\_echidna & P &    0.000000\\\\\n",
       "\t orangeheart   & E &  551.924104\\\\\n",
       "\t orangeheart   & P &    2.595515\\\\\n",
       "\t cool          & E &  480.708091\\\\\n",
       "\t cool          & P &   27.252907\\\\\n",
       "\t blackheart    & E &  467.990945\\\\\n",
       "\t blackheart    & P &    5.191030\\\\\n",
       "\t art{]}          & E &  442.556655\\\\\n",
       "\t art{]}          & P &   49.314784\\\\\n",
       "\t portion       & E &  442.556655\\\\\n",
       "\t portion       & P &    0.000000\\\\\n",
       "\t like          & E &  424.752652\\\\\n",
       "\t like          & P &  716.362126\\\\\n",
       "\t sonic         & E &  409.492077\\\\\n",
       "\t sonic         & P &   33.741694\\\\\n",
       "\t zero          & E &  366.253783\\\\\n",
       "\t zero          & P &    2.595515\\\\\n",
       "\t image         & E &  358.623496\\\\\n",
       "\t image         & P &    2.595515\\\\\n",
       "\t can           & E &  284.864054\\\\\n",
       "\t can           & P &  211.534468\\\\\n",
       "\t just          & E &  274.690338\\\\\n",
       "\t just          & P &  349.096761\\\\\n",
       "\t @xkmi\\_        & E &  264.516621\\\\\n",
       "\t @xkmi\\_        & P &    0.000000\\\\\n",
       "\t ⋮ & ⋮ & ⋮\\\\\n",
       "\t keycap:\\#        & E &  96.650304\\\\\n",
       "\t keycap:\\#        & P & 720.255399\\\\\n",
       "\t puts            & E &   2.543429\\\\\n",
       "\t puts            & P & 698.193522\\\\\n",
       "\t \"perry          & E &   0.000000\\\\\n",
       "\t \"perry          & P & 694.300249\\\\\n",
       "\t wrappedgift     & E &   0.000000\\\\\n",
       "\t wrappedgift     & P & 665.749585\\\\\n",
       "\t fire            & E &  53.412010\\\\\n",
       "\t fire            & P & 630.710133\\\\\n",
       "\t platypus:       & E &   0.000000\\\\\n",
       "\t platypus:       & P & 602.159468\\\\\n",
       "\t god:            & E &   0.000000\\\\\n",
       "\t god:            & P & 577.502076\\\\\n",
       "\t know            & E & 127.171453\\\\\n",
       "\t know            & P & 532.080565\\\\\n",
       "\t called          & E &  17.804003\\\\\n",
       "\t called          & P & 439.939784\\\\\n",
       "\t \\&amp;           & E &   0.000000\\\\\n",
       "\t \\&amp;           & P & 397.113787\\\\\n",
       "\t one             & E & 190.757179\\\\\n",
       "\t one             & P & 363.372093\\\\\n",
       "\t platypus?\"      & E &   0.000000\\\\\n",
       "\t platypus?\"      & P & 352.990033\\\\\n",
       "\t doofenschmirtz: & E &   0.000000\\\\\n",
       "\t doofenschmirtz: & P & 343.905731\\\\\n",
       "\t platypus??\"     & E &   0.000000\\\\\n",
       "\t platypus??\"     & P & 343.905731\\\\\n",
       "\t fedora:         & E &   0.000000\\\\\n",
       "\t fedora:         & P & 342.607973\\\\\n",
       "\\end{tabular}\n"
      ],
      "text/markdown": [
       "\n",
       "A data.frame: 76 × 3\n",
       "\n",
       "| type &lt;chr&gt; | corpus &lt;chr&gt; | freq &lt;dbl&gt; |\n",
       "|---|---|---|\n",
       "| echidna       | E | 5763.410230 |\n",
       "| echidna       | P |    6.488787 |\n",
       "| knuckles      | E |  773.202432 |\n",
       "| knuckles      | P |    1.297757 |\n",
       "| @lady_echidna | E |  760.485286 |\n",
       "| @lady_echidna | P |    0.000000 |\n",
       "| orangeheart   | E |  551.924104 |\n",
       "| orangeheart   | P |    2.595515 |\n",
       "| cool          | E |  480.708091 |\n",
       "| cool          | P |   27.252907 |\n",
       "| blackheart    | E |  467.990945 |\n",
       "| blackheart    | P |    5.191030 |\n",
       "| art]          | E |  442.556655 |\n",
       "| art]          | P |   49.314784 |\n",
       "| portion       | E |  442.556655 |\n",
       "| portion       | P |    0.000000 |\n",
       "| like          | E |  424.752652 |\n",
       "| like          | P |  716.362126 |\n",
       "| sonic         | E |  409.492077 |\n",
       "| sonic         | P |   33.741694 |\n",
       "| zero          | E |  366.253783 |\n",
       "| zero          | P |    2.595515 |\n",
       "| image         | E |  358.623496 |\n",
       "| image         | P |    2.595515 |\n",
       "| can           | E |  284.864054 |\n",
       "| can           | P |  211.534468 |\n",
       "| just          | E |  274.690338 |\n",
       "| just          | P |  349.096761 |\n",
       "| @xkmi_        | E |  264.516621 |\n",
       "| @xkmi_        | P |    0.000000 |\n",
       "| ⋮ | ⋮ | ⋮ |\n",
       "| keycap:#        | E |  96.650304 |\n",
       "| keycap:#        | P | 720.255399 |\n",
       "| puts            | E |   2.543429 |\n",
       "| puts            | P | 698.193522 |\n",
       "| \"perry          | E |   0.000000 |\n",
       "| \"perry          | P | 694.300249 |\n",
       "| wrappedgift     | E |   0.000000 |\n",
       "| wrappedgift     | P | 665.749585 |\n",
       "| fire            | E |  53.412010 |\n",
       "| fire            | P | 630.710133 |\n",
       "| platypus:       | E |   0.000000 |\n",
       "| platypus:       | P | 602.159468 |\n",
       "| god:            | E |   0.000000 |\n",
       "| god:            | P | 577.502076 |\n",
       "| know            | E | 127.171453 |\n",
       "| know            | P | 532.080565 |\n",
       "| called          | E |  17.804003 |\n",
       "| called          | P | 439.939784 |\n",
       "| &amp;amp;           | E |   0.000000 |\n",
       "| &amp;amp;           | P | 397.113787 |\n",
       "| one             | E | 190.757179 |\n",
       "| one             | P | 363.372093 |\n",
       "| platypus?\"      | E |   0.000000 |\n",
       "| platypus?\"      | P | 352.990033 |\n",
       "| doofenschmirtz: | E |   0.000000 |\n",
       "| doofenschmirtz: | P | 343.905731 |\n",
       "| platypus??\"     | E |   0.000000 |\n",
       "| platypus??\"     | P | 343.905731 |\n",
       "| fedora:         | E |   0.000000 |\n",
       "| fedora:         | P | 342.607973 |\n",
       "\n"
      ],
      "text/plain": [
       "   type            corpus freq       \n",
       "1  echidna         E      5763.410230\n",
       "2  echidna         P         6.488787\n",
       "3  knuckles        E       773.202432\n",
       "4  knuckles        P         1.297757\n",
       "5  @lady_echidna   E       760.485286\n",
       "6  @lady_echidna   P         0.000000\n",
       "7  orangeheart     E       551.924104\n",
       "8  orangeheart     P         2.595515\n",
       "9  cool            E       480.708091\n",
       "10 cool            P        27.252907\n",
       "11 blackheart      E       467.990945\n",
       "12 blackheart      P         5.191030\n",
       "13 art]            E       442.556655\n",
       "14 art]            P        49.314784\n",
       "15 portion         E       442.556655\n",
       "16 portion         P         0.000000\n",
       "17 like            E       424.752652\n",
       "18 like            P       716.362126\n",
       "19 sonic           E       409.492077\n",
       "20 sonic           P        33.741694\n",
       "21 zero            E       366.253783\n",
       "22 zero            P         2.595515\n",
       "23 image           E       358.623496\n",
       "24 image           P         2.595515\n",
       "25 can             E       284.864054\n",
       "26 can             P       211.534468\n",
       "27 just            E       274.690338\n",
       "28 just            P       349.096761\n",
       "29 @xkmi_          E       264.516621\n",
       "30 @xkmi_          P         0.000000\n",
       "⋮  ⋮               ⋮      ⋮          \n",
       "47 keycap:#        E       96.650304 \n",
       "48 keycap:#        P      720.255399 \n",
       "49 puts            E        2.543429 \n",
       "50 puts            P      698.193522 \n",
       "51 \"perry          E        0.000000 \n",
       "52 \"perry          P      694.300249 \n",
       "53 wrappedgift     E        0.000000 \n",
       "54 wrappedgift     P      665.749585 \n",
       "55 fire            E       53.412010 \n",
       "56 fire            P      630.710133 \n",
       "57 platypus:       E        0.000000 \n",
       "58 platypus:       P      602.159468 \n",
       "59 god:            E        0.000000 \n",
       "60 god:            P      577.502076 \n",
       "61 know            E      127.171453 \n",
       "62 know            P      532.080565 \n",
       "63 called          E       17.804003 \n",
       "64 called          P      439.939784 \n",
       "65 &amp;           E        0.000000 \n",
       "66 &amp;           P      397.113787 \n",
       "67 one             E      190.757179 \n",
       "68 one             P      363.372093 \n",
       "69 platypus?\"      E        0.000000 \n",
       "70 platypus?\"      P      352.990033 \n",
       "71 doofenschmirtz: E        0.000000 \n",
       "72 doofenschmirtz: P      343.905731 \n",
       "73 platypus??\"     E        0.000000 \n",
       "74 platypus??\"     P      343.905731 \n",
       "75 fedora:         E        0.000000 \n",
       "76 fedora:         P      342.607973 "
      ]
     },
     "metadata": {},
     "output_type": "display_data"
    }
   ],
   "source": [
    "# another visualisation\n",
    "\n",
    "# make doubled list of types\n",
    "double <- function(name) {c(name,name)}\n",
    "doubles <- lapply(types_combined$types, double)\n",
    "doubles_flat <- do.call(c, doubles)\n",
    "\n",
    "# make column for source corpus\n",
    "corpora <- c('E', 'P')\n",
    "data_col <- rep(corpora, times = length(types_combined$types))\n",
    "\n",
    "# make list of frequencies\n",
    "freq_list <- list()\n",
    "\n",
    "for (i in 1:length(types_combined$types)) {\n",
    "    freq_list <- c(freq_list, bar_data[1,i], bar_data[2,i])\n",
    "}\n",
    "# remove N\n",
    "freq_list[is.na(freq_list)] <- 0\n",
    "\n",
    "# assemble data frame\n",
    "ggplot_data <- data.frame(doubles_flat, data_col, unlist(freq_list))\n",
    "colnames(ggplot_data) <- c('type', 'corpus', 'freq')\n",
    "ggplot_data"
   ]
  },
  {
   "cell_type": "markdown",
   "metadata": {},
   "source": [
    "Now we can make the visualisation. The syntax of ``ggplot`` is not transparent, but there are a two points to be aware of here. First, the section ``aes(x = type, y = freq, fill = corpus)`` specifies how the data will be plotted: the types (words) will be on the x axis, the frequencies will be on the y axis and the data will be grouped by the source corpus. (Actually, the code tells ggplot to assign fill colour to the bars depending on the source corpus.) Secondly, the section of code starting with ``theme`` tells ``ggplot`` to rotate the x-axis labels so that we can read them. We could specify colours for the fill, but ``ggplot`` has quite good taste in this respect."
   ]
  },
  {
   "cell_type": "code",
   "execution_count": 16,
   "metadata": {},
   "outputs": [
    {
     "data": {
      "image/png": "[encoded data removed]",
      "text/plain": [
       "plot without title"
      ]
     },
     "metadata": {
      "image/png": {
       "height": 840,
       "width": 840
      }
     },
     "output_type": "display_data"
    }
   ],
   "source": [
    "# make side-by-side bar chart\n",
    "\n",
    "gg <- ggplot(ggplot_data)\n",
    "gg <- gg + geom_bar(aes(x = type, y = freq, fill = corpus), position=\"dodge\", stat = \"identity\") + theme(axis.text.x = element_text(angle = 90))\n",
    "gg <- gg + labs(x=\"Types\",y=\"Normalised Frequency\")+\n",
    "  ggtitle(paste(\"Occurrence of most frequent words in twitter corpora\"))\n",
    "print(gg)"
   ]
  },
  {
   "cell_type": "markdown",
   "metadata": {},
   "source": [
    "### Outro\n",
    "\n",
    "Extract session information"
   ]
  },
  {
   "cell_type": "code",
   "execution_count": null,
   "metadata": {},
   "outputs": [],
   "source": [
    "sessionInfo()"
   ]
  },
  {
   "cell_type": "code",
   "execution_count": null,
   "metadata": {},
   "outputs": [],
   "source": []
  }
 ],
 "metadata": {
  "colab": {
   "authorship_tag": "ABX9TyNO6PYY8bXdNimtOSzMRuD5",
   "collapsed_sections": [],
   "name": "AnalyseTwitterText.ipynb",
   "provenance": []
  },
  "kernelspec": {
   "display_name": "R",
   "language": "R",
   "name": "ir"
  },
  "language_info": {
   "codemirror_mode": "r",
   "file_extension": ".r",
   "mimetype": "text/x-r-source",
   "name": "R",
   "pygments_lexer": "r",
   "version": "4.1.2"
  }
 },
 "nbformat": 4,
 "nbformat_minor": 4
}
