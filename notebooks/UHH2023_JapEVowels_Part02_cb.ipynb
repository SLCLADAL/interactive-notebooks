{
    "cells": [
        {
            "cell_type": "markdown",
            "metadata": {},
            "source": [
                "# Reproducibility in corpus-based computational analyses of learner speech - Part 2\"\n",
                "\n",
                "This notebook reports the analyses of monophthongal English vowels produced by Japanese learners and L1 speakers of English.\n",
                "\n",
                "## Preparation\n",
                "\n",
                "\n",
                "\n",
                "load packages\n"
            ]
        },
        {
            "cell_type": "code",
            "execution_count": null,
            "metadata": {},
            "outputs": [],
            "source": [
                "library(dplyr)\n",
                "library(stringr)\n",
                "library(tidyr)\n",
                "library(adehabitatHR)\n",
                "library(lme4)\n",
                "library(sjPlot)\n",
                "library(report)\n",
                "library(viridis)\n",
                "library(phonR)\n",
                "library(vowels)\n",
                "library(ggridges)\n",
                "library(sm)\n",
                "library(janitor)\n",
                "options(\"scipen\" = 100, \"digits\" = 12) # suppress math annotation\n"
            ]
        },
        {
            "cell_type": "markdown",
            "metadata": {},
            "source": [
                "load data\n",
                "\n"
            ]
        },
        {
            "cell_type": "code",
            "execution_count": null,
            "metadata": {},
            "outputs": [],
            "source": [
                "# load .rda data\n",
                "vdf  <- base::readRDS(file = url(\"https://github.com/MartinSchweinberger/UHH2023EngVwlJpn/blob/main/data/vdf.rda\")) %>%\n",
                "  dplyr::mutate(type = stringr::str_replace_all(file, \"^[A-Z]{2,}_([A-Z]{3,3})_.*\", \"\\\\1\"),\n",
                "                speaker = stringr::str_replace_all(file, \".*_([0-9]{3,3})_.*\", \"\\\\1\")) %>%\n",
                "  dplyr::mutate(tgender = stringr::str_replace_all(path, \".*F[3-7]{1,1}_([fm]{1,1})_[a-z]{2,2}$\", \"\\\\1\"),\n",
                "                tformants = stringr::str_replace_all(path, \".*(F[3-7]{1,1})_[fm]{1,1}_[a-z]{2,2}$\", \"\\\\1\"),\n",
                "                tvariety = stringr::str_remove_all(path, \".*_\"))\n",
                "# inspect\n",
                "nrow(vdf); head(vdf)\n"
            ]
        },
        {
            "cell_type": "markdown",
            "metadata": {},
            "source": [
                "# Load Biodata\n",
                "\n"
            ]
        },
        {
            "cell_type": "code",
            "execution_count": null,
            "metadata": {},
            "outputs": [],
            "source": [
                "bio <- read.delim(url(\"https://github.com/MartinSchweinberger/UHH2023EngVwlJpn/blob/main/data/biodata_icnale.txt\"), header = T, sep = \"\\t\") %>%\n",
                "  dplyr::filter(stringr::str_detect(Code, \"JPN|ENS\")) %>%\n",
                "  dplyr::mutate(type = stringr::str_replace_all(Code, \"^[A-Z]{2,}_([A-Z]{3,3})_.*\", \"\\\\1\"),\n",
                "                speaker = stringr::str_replace_all(Code, \".*_([0-9]{3,3}).*\", \"\\\\1\"),\n",
                "                Sex = tolower(Sex)) %>%\n",
                "  dplyr::rename(gender = Sex)\n",
                "bio[bio==\"N/A\"]<-NA\n",
                "# inspect\n",
                "head(bio)\n"
            ]
        },
        {
            "cell_type": "markdown",
            "metadata": {},
            "source": [
                "# Join data sets\n",
                "\n",
                "Join formant and biodata\n"
            ]
        },
        {
            "cell_type": "code",
            "execution_count": null,
            "metadata": {},
            "outputs": [],
            "source": [
                "fdat <- dplyr::left_join(vdf, bio, by = c(\"type\", \"speaker\"))  %>%\n",
                "  # filter out di- and triphthongs\n",
                "  dplyr::mutate(nv = nchar(stringr::str_remove_all(label, \":\"))) %>%\n",
                "  dplyr::filter(nv == 1) %>%\n",
                "  dplyr::filter(gender == tgender) %>%\n",
                "  # remove  ref speakers with l1-var other than genam or gb\n",
                "  dplyr::mutate(tvariety = dplyr::case_when(Country == \"ENS_GBR\" ~ \"gb\",\n",
                "                                            Country == \"ENS_CAN\" ~ \"us\",\n",
                "                                            Country == \"ENS_USA\" ~ \"us\",\n",
                "                                             TRUE ~ tvariety)) %>%\n",
                "  dplyr::filter(type == \"JPN\" | type == \"ENS\" & Country == \"ENS_CAN\" | Country == \"ENS_GBR\" | Country == \"ENS_USA\")\n",
                "# inspect\n",
                "head(fdat)\n"
            ]
        },
        {
            "cell_type": "markdown",
            "metadata": {},
            "source": [
                "testing\n",
                "\n"
            ]
        },
        {
            "cell_type": "code",
            "execution_count": null,
            "metadata": {},
            "outputs": [],
            "source": [
                "table(fdat$label, fdat$tvariety, fdat$type)\n",
                "\n"
            ]
        },
        {
            "cell_type": "markdown",
            "metadata": {},
            "source": [
                "check proficiency\n",
                "\n"
            ]
        },
        {
            "cell_type": "code",
            "execution_count": null,
            "metadata": {},
            "outputs": [],
            "source": [
                "fdat <- fdat %>%\n",
                "  dplyr::mutate(prof = stringr::str_replace_all(file, \".*_([A-B]{1,1}[0-9]{1,1})_.*\", \"\\\\1\")) %>%\n",
                "  mutate(prof = ifelse(prof == file, NA, prof),\n",
                "         prof = factor(prof, levels = c(\"A2\", \"B1\", \"B2\")))\n",
                "# inspect\n",
                "summary(fdat$prof)\n"
            ]
        },
        {
            "cell_type": "markdown",
            "metadata": {},
            "source": [
                "# Reference data\n",
                "\n",
                "**GenAm**\n",
                "\n",
                "[Yang, Byunggon. 1996. A comparative study of American English and Korean vowels produced by male and female speakers. *Journal of Phonetics* 24: 245–261.](http://fonetiks.info/bgyang/db/96jp.pdf)\n"
            ]
        },
        {
            "cell_type": "code",
            "execution_count": null,
            "metadata": {},
            "outputs": [],
            "source": [
                "ame <- read.delim(url(\"https://github.com/MartinSchweinberger/UHH2023EngVwlJpn/blob/main/data/reference/GenAm.txt\"), sep = \"\\t\", header = T) %>%\n",
                "  dplyr::mutate(label = dplyr::case_when(item == \"had\" ~ \"{\",\n",
                "                                         item == \"heed\" ~ \"i:\",\n",
                "                                         item == \"hid\" ~ \"I\",\n",
                "                                         item == \"head\" ~ \"E\",\n",
                "                                         item == \"hard\" ~ \"6\",\n",
                "                                         item == \"whod\" ~ \"u:\",\n",
                "                                         item == \"hood\" ~ \"U\",\n",
                "                                         item == \"hoard\" ~ \"O:\",\n",
                "                                         item == \"hud\" ~ \"V\",\n",
                "                                         item == \"hod\" ~ \"Q\",\n",
                "                                         TRUE ~ \"other\"),\n",
                "                gender = dplyr::case_when(sex == \"female\" ~ \"f\",\n",
                "                                          TRUE ~ \"m\")) %>%\n",
                "  dplyr::filter(label != \"other\") %>%\n",
                "  dplyr::group_by(label, gender) %>%\n",
                "  dplyr::summarise(target_f1 = mean(F1_Hz),\n",
                "                   target_f2 = mean(F2_Hz),\n",
                "                   target_f3 = mean(F3_Hz)) %>%\n",
                "  dplyr::mutate(tvariety = \"us\")\n",
                "# inspect data\n",
                "head(ame)\n"
            ]
        },
        {
            "cell_type": "markdown",
            "metadata": {},
            "source": [
                "**SSB**\n",
                "\n",
                "[Deterding, David 2009. The Formants of Monophthong Vowels in Standard Southern British English Pronunciation. *Journal of the International Phonetic Association* 27, 1-2: 47-55. doi:10.1017/S0025100300005417](http://journals.cambridge.org/download.php?file=%2F7775_45AD5CD7849D3B7634A613DE6E61C294_journals__IPA_IPA27_1-2_S0025100300005417a.pdf&cover=Y&code=0639c34593b21cb18a9e7b504bdd5319)\n"
            ]
        },
        {
            "cell_type": "code",
            "execution_count": null,
            "metadata": {},
            "outputs": [],
            "source": [
                "bre <- read.delim(url(\"https://github.com/MartinSchweinberger/UHH2023EngVwlJpn/blob/main/data/reference/SSB.txt\"), sep = \"\\t\", header = T) %>%\n",
                "  dplyr::mutate(label = dplyr::case_when(item == \"had\" ~ \"{\",\n",
                "                                         item == \"heed\" ~ \"i:\",\n",
                "                                         item == \"hid\" ~ \"I\",\n",
                "                                         item == \"head\" ~ \"e\",\n",
                "                                         item == \"hard\" ~ \"A:\",\n",
                "                                         item == \"whod\" ~ \"u:\",\n",
                "                                         item == \"hood\" ~ \"U\",\n",
                "                                         item == \"hoard\" ~ \"O:\",\n",
                "                                         item == \"hud\" ~ \"V\",\n",
                "                                         item == \"hod\" ~ \"Q\",\n",
                "                                         TRUE ~ \"other\"),\n",
                "                gender = dplyr::case_when(sex == \"female\" ~ \"f\",\n",
                "                                          TRUE ~ \"m\")) %>%\n",
                "  dplyr::filter(label != \"other\") %>%\n",
                "  dplyr::group_by(label, gender) %>%\n",
                "  dplyr::summarise(target_f1 = mean(F1_Hz),\n",
                "                   target_f2 = mean(F2_Hz),\n",
                "                   target_f3 = mean(F3_Hz)) %>%\n",
                "  dplyr::mutate(tvariety = \"gb\")\n",
                "# inspect data\n",
                "head(bre)\n"
            ]
        },
        {
            "cell_type": "markdown",
            "metadata": {},
            "source": [
                "Combine reference and obs data\n",
                "\n"
            ]
        },
        {
            "cell_type": "code",
            "execution_count": null,
            "metadata": {},
            "outputs": [],
            "source": [
                "ref <- rbind(ame, bre)\n",
                "fdat <- dplyr::left_join(fdat, ref) %>%\n",
                "  dplyr::filter(!is.na(target_f1)) %>%\n",
                "  dplyr::mutate(edist = sqrt((F1-target_f1)^2 + (F2-target_f2)^2))\n",
                "# inspect\n",
                "head(fdat)\n"
            ]
        },
        {
            "cell_type": "markdown",
            "metadata": {},
            "source": [
                "Determine best fit (f3:f7)\n",
                "\n"
            ]
        },
        {
            "cell_type": "code",
            "execution_count": null,
            "metadata": {},
            "outputs": [],
            "source": [
                "fdat <- fdat %>%\n",
                "  dplyr::arrange(file, tmin, tvariety, tformants) %>%\n",
                "  dplyr::group_by(file, tmin) %>% \n",
                "  dplyr::slice(which.min(edist))\n",
                "# inspect\n",
                "head(fdat)\n"
            ]
        },
        {
            "cell_type": "markdown",
            "metadata": {},
            "source": [
                "remove vowels other than I and i: or U and u:\n",
                "\n"
            ]
        },
        {
            "cell_type": "code",
            "execution_count": null,
            "metadata": {},
            "outputs": [],
            "source": [
                "# reduce words\n",
                "fdat <- fdat %>%\n",
                "  dplyr::filter(label == \"U\" | label == \"u:\" | label == \"I\" | label == \"i:\") %>%\n",
                "  dplyr::filter(nchar(word) < 9,\n",
                "                word != \"the\") %>%\n",
                "  # bark normalization\n",
                "  dplyr::mutate(barkF1 = normBark(F1),\n",
                "                barkF2 = normBark(F2)) %>%\n",
                "  # lobanov normalization\n",
                "  dplyr::ungroup() %>%\n",
                "  dplyr::mutate(fspeaker = paste0(type, speaker, collaspe = \"\")) %>%\n",
                "  dplyr::group_by(type, gender, tvariety) %>%\n",
                "  dplyr::mutate(lobF1 = scale(F1),\n",
                "                lobF2 = scale(F2)) %>%\n",
                "  # remove superfluous columns\n",
                "  dplyr::select(-path, -PTJ1..wds., -PTJ2..wds., -SMK1..wds., -SMK2..wds., -Self.Ev, \n",
                "                -Grade.Degree, -Acad..Genre, -VST, -CEFR, -INTM, -INSM, -INTM.INSM, \n",
                "                -INTM.INSM.1, -Primary, -Secondary, -College, -Inschool, -Outschool,\n",
                "                -Reading, -Writing, -NS, -Presentation, -EssayW, -nv)\n",
                "# inspect\n",
                "head(fdat)\n"
            ]
        },
        {
            "cell_type": "markdown",
            "metadata": {},
            "source": [
                "# (Semi-)Manual cross-evaluation\n",
                "\n",
                "check for inconsistencies\n"
            ]
        },
        {
            "cell_type": "code",
            "execution_count": null,
            "metadata": {},
            "outputs": [],
            "source": [
                "table(fdat$label, fdat$word)\n",
                "\n"
            ]
        },
        {
            "cell_type": "markdown",
            "metadata": {},
            "source": [
                "exclude inconsistencies\n",
                "\n"
            ]
        },
        {
            "cell_type": "code",
            "execution_count": null,
            "metadata": {},
            "outputs": [],
            "source": [
                "fdat <- fdat %>%\n",
                "  dplyr::mutate(word = stringr::str_squish(word)) %>%\n",
                "  dplyr::mutate(remove = dplyr::case_when(word == \"--we\"  ~ \"remove\",\n",
                "                                          word == \"ba\"  ~ \"remove\",\n",
                "                                          word == \"bit\" & label == \"6\" ~ \"remove\",\n",
                "                                          word == \"books\" & label == \"I\" ~ \"remove\",\n",
                "                                          word == \"but\" & label == \"I\" ~ \"remove\",\n",
                "                                          word == \"bui\" & label == \"I\" ~ \"remove\",\n",
                "                                          word == \"de\" & label == \"i:\" ~ \"remove\",\n",
                "                                          word == \"do\" & label == \"6\" ~ \"remove\",\n",
                "                                          word == \"do\" & label == \"I\" ~ \"remove\",\n",
                "                                          word == \"dust\" & label == \"V\" ~ \"remove\",\n",
                "                                          word == \"get\" & label == \"I\" ~ \"remove\",\n",
                "                                          word == \"gets\" & label == \"I\" ~ \"remove\",\n",
                "                                          word == \"good\" & label == \"I\" ~ \"remove\",\n",
                "                                          word == \"hea\" ~ \"remove\",\n",
                "                                          word == \"peo\" ~ \"remove\",\n",
                "                                          word == \"speak\" & label == \"I\" ~ \"remove\",\n",
                "                                          word == \"sets\" & label == \"I\" ~ \"remove\",\n",
                "                                          word == \"shops\" & label == \"I\" ~ \"remove\",\n",
                "                                          word == \"so\" & label == \"U\" ~ \"remove\",\n",
                "                                          word == \"that\" & label == \"I\" ~ \"remove\",\n",
                "                                          word == \"that's\" & label == \"I\" ~ \"remove\",\n",
                "                                          word == \"they're\" ~ \"remove\",\n",
                "                                          word == \"they\" ~ \"remove\",\n",
                "                                          word == \"that\\u0081's\" & label == \"I\" ~ \"remove\",\n",
                "                                          word == \"this\" & label == \"O:\" ~ \"remove\",\n",
                "                                          word == \"to\" ~ \"remove\",\n",
                "                                          word == \"too\" & label == \"I\" ~ \"remove\",\n",
                "                                          word == \"too\" & label == \"6\" ~ \"remove\",\n",
                "                                          word == \"two\" & label != \"u:\" ~ \"remove\",\n",
                "                                          word == \"ways\" & label == \"I\" ~ \"remove\",\n",
                "                                          word == \"we're\" & label == \"6\" ~ \"remove\",\n",
                "                                          word == \"we're\" & label == \"6\" ~ \"remove\",\n",
                "                                          stringr::str_detect(word, \"\\\\W\") ~ \"remove\",\n",
                "                                          TRUE ~ \"keep\")) %>%\n",
                "  dplyr::filter(remove != \"remove\")\n",
                "# inspect\n",
                "table(fdat$label, fdat$word)\n"
            ]
        },
        {
            "cell_type": "markdown",
            "metadata": {},
            "source": [
                "## Check durations\n",
                "\n"
            ]
        },
        {
            "cell_type": "code",
            "execution_count": null,
            "metadata": {},
            "outputs": [],
            "source": [
                "fdat <- fdat %>%\n",
                "  # duration\n",
                "  dplyr::mutate(duration = tmax - tmin)\n",
                "# inspect\n",
                "head(fdat)\n"
            ]
        },
        {
            "cell_type": "markdown",
            "metadata": {},
            "source": [
                "plot durations\n",
                "\n"
            ]
        },
        {
            "cell_type": "code",
            "execution_count": null,
            "metadata": {},
            "outputs": [],
            "source": [
                "fdat %>%\n",
                "  ggplot(aes(x = vowel, y = duration, fill = type)) +\n",
                "  geom_boxplot()\n"
            ]
        },
        {
            "cell_type": "markdown",
            "metadata": {},
            "source": [
                "\n",
                "\n"
            ]
        },
        {
            "cell_type": "code",
            "execution_count": null,
            "metadata": {},
            "outputs": [],
            "source": [
                "max_durs <- fdat %>%\n",
                "  dplyr::group_by(type, tvariety, vowel) %>%\n",
                "  dplyr::summarise(du_min = min(duration),\n",
                "                   du_max = max(duration),\n",
                "                   du_ave = mean(duration),\n",
                "                   du_med = median(duration),\n",
                "                   du_sd = sd(duration),\n",
                "                   du_2sd = sd(duration)*1.645) %>%\n",
                "  dplyr::mutate(cutoff_duration = du_ave + du_2sd) %>%\n",
                "  dplyr::select(type, tvariety, vowel, cutoff_duration)\n",
                "# inspect\n",
                "head(max_durs)\n"
            ]
        },
        {
            "cell_type": "markdown",
            "metadata": {},
            "source": [
                "overview\n",
                "\n"
            ]
        },
        {
            "cell_type": "code",
            "execution_count": null,
            "metadata": {},
            "outputs": [],
            "source": [
                "tb0 <- fdat %>%\n",
                "  dplyr::ungroup() %>%\n",
                "  dplyr::filter(label == \"I\" | label == \"i:\" | label == \"U\" | label == \"u:\" ) %>%\n",
                "  dplyr::group_by(type) %>%\n",
                "  dplyr::mutate(speakers = length(table(speaker))) %>%\n",
                "  dplyr::ungroup() %>%\n",
                "  dplyr::group_by(type, label) %>%\n",
                "  dplyr::summarise(speakers = speakers,\n",
                "                   obs = n()) %>%\n",
                "  unique() %>%\n",
                "  tidyr::spread(label, obs) %>%\n",
                "  dplyr::ungroup()  %>%\n",
                "  adorn_totals(\"row\")%>%\n",
                "  adorn_totals(\"col\") %>%\n",
                "  dplyr::mutate(Total = Total-speakers)\n",
                "# inspect\n",
                "tb0\n"
            ]
        },
        {
            "cell_type": "markdown",
            "metadata": {},
            "source": [
                "remove duration outliers\n",
                "\n"
            ]
        },
        {
            "cell_type": "code",
            "execution_count": null,
            "metadata": {},
            "outputs": [],
            "source": [
                "fdat <- dplyr::left_join(fdat, max_durs) %>%\n",
                "  dplyr::filter(duration <= cutoff_duration,\n",
                "                ifelse(label != \"A:\", duration <= 0.4, duration <= 0.75))\n",
                "# inspect\n",
                "head(fdat); nrow(fdat)\n"
            ]
        },
        {
            "cell_type": "markdown",
            "metadata": {},
            "source": [
                "\n",
                "\n"
            ]
        },
        {
            "cell_type": "code",
            "execution_count": null,
            "metadata": {},
            "outputs": [],
            "source": [
                "dur_IiUu <-  fdat %>%\n",
                "  dplyr::filter(label == \"i:\" | label == \"I\" | label == \"u:\" | label == \"U\") %>%\n",
                "  ggplot(aes(y = vowel, x = duration, fill = type)) +\n",
                "  geom_density_ridges(alpha = .5) +\n",
                "  theme_ridges() +\n",
                "  theme(legend.position = \"top\") +\n",
                "  scale_fill_manual(values = c(\"orange\", \"gray\"))\n",
                "dur_IiUu\n"
            ]
        },
        {
            "cell_type": "markdown",
            "metadata": {},
            "source": [
                "\n",
                "\n"
            ]
        },
        {
            "cell_type": "code",
            "execution_count": null,
            "metadata": {},
            "outputs": [],
            "source": [
                "fdat %>%\n",
                "  ggplot(aes(x = vowel, y = duration, fill = type)) +\n",
                "  geom_boxplot()\n"
            ]
        },
        {
            "cell_type": "markdown",
            "metadata": {},
            "source": [
                "\n",
                "\n"
            ]
        },
        {
            "cell_type": "code",
            "execution_count": null,
            "metadata": {},
            "outputs": [],
            "source": [
                "fdat %>%\n",
                "  dplyr::group_by(type, tvariety, vowel) %>%\n",
                "  dplyr::mutate(ldur = log(duration)) %>%\n",
                "  ggplot(aes(x = vowel, y = ldur, fill = type)) +\n",
                "  geom_boxplot() +\n",
                "  facet_grid(~tvariety)\n"
            ]
        },
        {
            "cell_type": "markdown",
            "metadata": {},
            "source": [
                "# Remove outliers\n",
                "\n"
            ]
        },
        {
            "cell_type": "code",
            "execution_count": null,
            "metadata": {},
            "outputs": [],
            "source": [
                "nrow(fdat)\n",
                "fdat <- fdat %>% \n",
                "  dplyr::group_by(type, tvariety, label) %>%\n",
                "  dplyr::mutate(densF1 = sm.density(barkF1,eval.points=barkF1)$estimate,\n",
                "                densF2 = sm.density(barkF2,eval.points=barkF2)$estimate,\n",
                "                qnt1F1 = quantile(densF1, .5),\n",
                "                qnt1F2 = quantile(densF2, .5))\n",
                "# inspect\n",
                "nrow(fdat); head(fdat); summary(fdat$densF1)\n"
            ]
        },
        {
            "cell_type": "markdown",
            "metadata": {},
            "source": "\n"
        },
        {
            "cell_type": "code",
            "execution_count": null,
            "metadata": {},
            "outputs": [],
            "source": [
                "fdat <- fdat %>%\n",
                "  # remove data point within the lowest 25 percent of densities among F1 and F2 values\n",
                "  # but when label = A: and tvariety is gb\n",
                "  dplyr::mutate(rmv = ifelse(label == \"A:\" & tvariety == \"gb\", \"keep\", \"remove\")) %>%\n",
                "  dplyr::rowwise() %>%\n",
                "  dplyr::filter(rmv == \"keep\" | densF1 > qnt1F1 | densF2 > qnt1F2) %>%\n",
                "  # remove superfluous columns\n",
                "  dplyr::select(-densF1, -densF2, -qnt1F1, -qnt1F2, -cutoff_duration, -rmv)\n",
                "# inspect\n",
                "head(fdat); nrow(fdat)\n"
            ]
        },
        {
            "cell_type": "markdown",
            "metadata": {},
            "source": [
                "\n",
                "\n"
            ]
        },
        {
            "cell_type": "code",
            "execution_count": null,
            "metadata": {},
            "outputs": [],
            "source": [
                "fdat <- fdat %>%\n",
                "  dplyr::filter(lobF1 > -1.96,\n",
                "                lobF1 < 1.96,\n",
                "                lobF2 > -1.96,\n",
                "                lobF2 < 1.96)\n"
            ]
        },
        {
            "cell_type": "markdown",
            "metadata": {},
            "source": [
                "# Remove GB target\n",
                "\n"
            ]
        },
        {
            "cell_type": "code",
            "execution_count": null,
            "metadata": {},
            "outputs": [],
            "source": [
                "fdat <- fdat %>%\n",
                "  dplyr::filter(tvariety != \"gb\")\n"
            ]
        },
        {
            "cell_type": "markdown",
            "metadata": {},
            "source": [
                "# Check density\n",
                "\n"
            ]
        },
        {
            "cell_type": "code",
            "execution_count": null,
            "metadata": {},
            "outputs": [],
            "source": [
                "wordplot3 <- function(fdat, vwl1, vwl2){\n",
                "  plt <- fdat %>% \n",
                "    dplyr::filter(label == vwl1 | label == vwl2) %>%\n",
                "    dplyr::group_by(word, label) %>%\n",
                "    dplyr::mutate(meanF2 = mean(lobF2),\n",
                "                  meanF1 = mean(lobF1)) %>%\n",
                "    dplyr::ungroup() %>%\n",
                "    dplyr::group_by(label) %>%\n",
                "    dplyr::mutate(cF2 = mean(lobF2),\n",
                "                  cF1 = mean(lobF1)) %>%\n",
                "    # plot\n",
                "    ggplot(aes(x = lobF2, y = lobF1)) +\n",
                "  stat_density_2d(geom = \"polygon\",\n",
                "                  aes(alpha = ..level.., fill = label), bins = 8)  +\n",
                "    facet_grid( ~ type) +\n",
                "    scale_x_reverse(position = \"top\") + \n",
                "    scale_y_reverse(position = \"right\") + \n",
                "    #scale_fill_distiller(palette = \"Blues\", direction = 1) +\n",
                "    geom_text(aes(x = meanF2, y = meanF1, \n",
                "                  label = word, color = label), size = 4) +\n",
                "    geom_text(aes(x = cF2, y = cF1, \n",
                "                  label = label), size = 6, color = \"gray20\") +\n",
                "    theme_minimal() +\n",
                "    theme(panel.grid.major = element_blank(), \n",
                "                  panel.grid.minor = element_blank(),\n",
                "                  legend.position = \"none\") +\n",
                "  scale_color_manual(values = c(\"orange3\", \"gray40\")) +\n",
                "  scale_fill_manual(values = c(\"orange\", \"gray\")) +\n",
                "    labs(x = \"Formant 2 (Lobanov normalized)\", y = \"Formant 1 (Lobanov normalized)\")\n",
                "  return(plt)\n",
                "  }\n"
            ]
        },
        {
            "cell_type": "markdown",
            "metadata": {},
            "source": [
                "\n",
                "\n"
            ]
        },
        {
            "cell_type": "code",
            "execution_count": null,
            "metadata": {},
            "outputs": [],
            "source": [
                "pIi <- wordplot3(fdat = fdat, vwl1 = \"I\", vwl2 = \"i:\")\n",
                "pIi\n"
            ]
        },
        {
            "cell_type": "markdown",
            "metadata": {},
            "source": "\n"
        },
        {
            "cell_type": "code",
            "execution_count": null,
            "metadata": {},
            "outputs": [],
            "source": [
                "pUu <- wordplot3(fdat = fdat, vwl1 = \"U\", vwl2 = \"u:\")\n",
                "pUu\n"
            ]
        },
        {
            "cell_type": "markdown",
            "metadata": {},
            "source": [
                "# Normalization\n",
                "\n",
                "See [here](https://marissabarlaz.github.io/portfolio/vowelnormalization/)\n",
                "\n",
                "Gender normalization\n"
            ]
        },
        {
            "cell_type": "code",
            "execution_count": null,
            "metadata": {},
            "outputs": [],
            "source": [
                "# Using mean F3 of open vowels (vowels with F1>600) to approximate female F1&F2 to those of male\n",
                "tempvowel <- fdat %>% \n",
                "  dplyr::filter(F1 > 600) %>% \n",
                "  dplyr::group_by(gender) %>%\n",
                "  dplyr::mutate(meanF3 = mean(F3))\n",
                "# extract k: k = ratio of Female F3 to Male F3\n",
                "k <- max(tempvowel$meanF3) / min(tempvowel$meanF3)\n",
                "# perform normalization\n",
                "fdat <- fdat %>%\n",
                "  dplyr::mutate(barkF1 = phonR::normBark(F1),\n",
                "                barkF2 = phonR::normBark(F2)) %>%\n",
                "  dplyr::mutate(normF1 = dplyr::if_else(gender == \"f\", F1*k, F1),\n",
                "                normF2 = dplyr::if_else(gender == \"f\", F2*k, F2))\n"
            ]
        },
        {
            "cell_type": "markdown",
            "metadata": {},
            "source": [
                "calculate distance from target vowel centroid for each token\n",
                "\n"
            ]
        },
        {
            "cell_type": "code",
            "execution_count": null,
            "metadata": {},
            "outputs": [],
            "source": [
                "tcentroid <- fdat %>%\n",
                "  dplyr::filter(type == \"ENS\") %>%\n",
                "  dplyr::group_by(tvariety, vowel) %>%\n",
                "  dplyr::summarise(cF1 = median(barkF1),\n",
                "                   cF2 = median(barkF2))\n",
                "# inspect\n",
                "head(tcentroid)\n"
            ]
        },
        {
            "cell_type": "markdown",
            "metadata": {},
            "source": [
                "combine\n",
                "\n"
            ]
        },
        {
            "cell_type": "code",
            "execution_count": null,
            "metadata": {},
            "outputs": [],
            "source": [
                "fdat <- dplyr::left_join(fdat, tcentroid) %>%\n",
                "  # euclidean distance\n",
                "  dplyr::rowwise() %>%\n",
                "  dplyr::mutate(ED = sqrt((barkF1-cF1)^2 + (barkF2-cF2)^2)) %>%\n",
                "  # remove superfluous columns\n",
                "  dplyr::select(-remove)\n",
                "# inspect\n",
                "head(fdat)\n"
            ]
        },
        {
            "cell_type": "markdown",
            "metadata": {},
            "source": [
                "# Gramm. Status of Word\n",
                "\n"
            ]
        },
        {
            "cell_type": "code",
            "execution_count": null,
            "metadata": {},
            "outputs": [],
            "source": [
                "gram <- c(\"be\", \"but\", \"did\", \"do\", \"get\", \"gets\", \"got\", \"had\", \"has\", \"he\", \"his\", \n",
                "          \"she\", \"that\", \"this\", \"too\", \"was\", \"we\", \"what\", \"who\", \"with\")\n",
                "fdat <- fdat %>%\n",
                "  # gramm. category of word\n",
                "  dplyr::mutate(WordType = ifelse(word %in% gram, \"grammatical\", \"lexical\"))\n"
            ]
        },
        {
            "cell_type": "markdown",
            "metadata": {},
            "source": [
                "\n",
                "\n"
            ]
        },
        {
            "cell_type": "code",
            "execution_count": null,
            "metadata": {},
            "outputs": [],
            "source": [
                "fdat %>%\n",
                "  dplyr::group_by(label) %>%\n",
                "  dplyr::mutate(meanF2 = median(barkF2),\n",
                "                meanF1 = median(barkF1)) %>%\n",
                "  ggplot(aes(x = barkF2, y = barkF1, color = vowel, fill = vowel, label = vowel)) +\n",
                "  facet_grid(tvariety ~ type) +\n",
                "  scale_x_reverse(position = \"top\") + \n",
                "  scale_y_reverse(position = \"right\") + \n",
                "  #stat_ellipse(aes(group = label), level = .5) +\n",
                "  #geom_point(alpha = .2) +\n",
                "  geom_text(alpha = .2) +\n",
                "  #geom_count() +\n",
                "  #geom_text(aes(x = meanF2, y = meanF1, color = vowel, label = vowel), size = 5) +\n",
                "  #scale_color_viridis(discrete = TRUE) +\n",
                "  theme_minimal() +\n",
                "  theme(legend.position = \"right\") +\n",
                "  labs(x = \"Formant 2 (Bark normalized)\", y = \"Formant 1 (Bark normalized))\")\n"
            ]
        },
        {
            "cell_type": "markdown",
            "metadata": {},
            "source": [
                "# Overview of the data\n",
                "\n"
            ]
        },
        {
            "cell_type": "code",
            "execution_count": null,
            "metadata": {},
            "outputs": [],
            "source": [
                "tb1 <- fdat %>%\n",
                "  dplyr::ungroup() %>%\n",
                "  dplyr::filter(label == \"I\" | label == \"i:\" | label == \"U\" | label == \"u:\" ) %>%\n",
                "  dplyr::group_by(type) %>%\n",
                "  dplyr::mutate(speakers = length(table(speaker))) %>%\n",
                "  dplyr::ungroup() %>%\n",
                "  dplyr::group_by(type, label) %>%\n",
                "  dplyr::summarise(speakers = speakers,\n",
                "                   obs = n()) %>%\n",
                "  unique() %>%\n",
                "  tidyr::spread(label, obs) %>%\n",
                "  dplyr::ungroup()  %>%\n",
                "  adorn_totals(\"row\")%>%\n",
                "  adorn_totals(\"col\") %>%\n",
                "  dplyr::mutate(Total = Total-speakers)\n",
                "# inspect\n",
                "tb1\n"
            ]
        },
        {
            "cell_type": "markdown",
            "metadata": {},
            "source": "\n"
        },
        {
            "cell_type": "code",
            "execution_count": null,
            "metadata": {},
            "outputs": [],
            "source": [
                "tb2 <- fdat %>%\n",
                "  dplyr::ungroup() %>%\n",
                "  dplyr::filter(label == \"I\" | label == \"i:\" | label == \"U\" | label == \"u:\" ) %>%\n",
                "  dplyr::mutate(Age = dplyr::case_when(Age < 30 ~ \"18-29\",\n",
                "                                       Age < 40 ~ \"30-39\",\n",
                "                                       Age < 50 ~ \"40-49\",\n",
                "                                       Age > 49 ~ \"50+\",\n",
                "                                       TRUE ~ \"unknown\")) %>%\n",
                "  dplyr::group_by(type, gender, Age) %>%\n",
                "  dplyr::summarise(speakers = length(table(speaker))) %>%\n",
                "  tidyr::spread(Age, speakers) %>%\n",
                "  dplyr::ungroup()  %>%\n",
                "  adorn_totals(\"row\")%>%\n",
                "  adorn_totals(\"col\")\n",
                "# inspect\n",
                "tb2\n"
            ]
        },
        {
            "cell_type": "markdown",
            "metadata": {},
            "source": [
                "tabulate proficiency\n",
                "\n"
            ]
        },
        {
            "cell_type": "code",
            "execution_count": null,
            "metadata": {},
            "outputs": [],
            "source": [
                "tb3 <- fdat %>%\n",
                "  dplyr::ungroup() %>%\n",
                "  dplyr::filter(label == \"I\" | label == \"i:\" | label == \"U\" | label == \"u:\" ) %>%\n",
                "  dplyr::filter(type == \"JPN\")%>%\n",
                "  dplyr::group_by(prof, gender) %>%\n",
                "  dplyr::summarise(speakers = length(table(speaker))) %>%\n",
                "  tidyr::spread(prof, speakers) %>%\n",
                "  dplyr::ungroup()  %>%\n",
                "  adorn_totals(\"row\")%>%\n",
                "  adorn_totals(\"col\")\n",
                "# inspect\n",
                "tb3\n"
            ]
        },
        {
            "cell_type": "markdown",
            "metadata": {},
            "source": [
                "# Save data to disc\n",
                "\n"
            ]
        },
        {
            "cell_type": "code",
            "execution_count": null,
            "metadata": {},
            "outputs": [],
            "source": [
                "# inspect\n",
                "nrow(fdat); head(fdat)\n"
            ]
        },
        {
            "cell_type": "markdown",
            "metadata": {},
            "source": [
                "# Statistical Analysis\n",
                "\n",
                "\n",
                "load data\n"
            ]
        },
        {
            "cell_type": "code",
            "execution_count": null,
            "metadata": {},
            "outputs": [],
            "source": [
                "# load .rda data\n",
                "fdat  <- base::readRDS(file = url(\"https://github.com/MartinSchweinberger/UHH2023EngVwlJpn/blob/main/data/fdat_sst.rda\"))\n",
                "# inspect\n",
                "nrow(fdat); head(fdat)\n"
            ]
        },
        {
            "cell_type": "markdown",
            "metadata": {},
            "source": [
                "remove superfluous variables\n",
                "\n"
            ]
        },
        {
            "cell_type": "code",
            "execution_count": null,
            "metadata": {},
            "outputs": [],
            "source": [
                "fdat <- fdat %>%\n",
                "  dplyr::select(id, label, word, file, F1, F2, speaker, vowel, \n",
                "                label, type, gender, Age, tvariety, edist, barkF1, \n",
                "                barkF2, fspeaker, lobF1, lobF2, duration, normF1, \n",
                "                normF2, cF1, cF2, ED, WordType, prof) %>%\n",
                "  # create new speaker column\n",
                "  dplyr::mutate(speaker = paste0(type, speaker))\n",
                "# inspect\n",
                "head(fdat)\n"
            ]
        },
        {
            "cell_type": "markdown",
            "metadata": {},
            "source": [
                "# Bhattacharyya's affinity \n",
                "\n",
                "function for extracting Bhattacharyya's affinity by type and target variety\n"
            ]
        },
        {
            "cell_type": "code",
            "execution_count": null,
            "metadata": {},
            "outputs": [],
            "source": [
                "exba <- function(data, section, target, vwl1, vwl2){\n",
                "  ba <- data %>%\n",
                "  ungroup() %>%\n",
                "  dplyr::filter(type == section,\n",
                "                tvariety == target,\n",
                "                label == vwl1 | label == vwl2)\n",
                "\n",
                "  ba_formants <- ba %>%  dplyr::select(lobF1, lobF2)\n",
                "  # extract vowels\n",
                "  ba_vowel <- ba %>%  dplyr::select(vowel)\n",
                "  # spatial data frame\n",
                "  ba_spdf <- SpatialPointsDataFrame(ba_formants, ba_vowel)\n",
                "  # calculate Bhattacharyya's affinity\n",
                "  ba_ba <- kerneloverlap(ba_spdf, method = \"BA\")\n",
                "  # result\n",
                "  return(ba_ba[1,2])\n",
                "}\n"
            ]
        },
        {
            "cell_type": "markdown",
            "metadata": {},
            "source": [
                "## I vs i: \n",
                "\n"
            ]
        },
        {
            "cell_type": "code",
            "execution_count": null,
            "metadata": {},
            "outputs": [],
            "source": [
                "# JPN\n",
                "exba(data = fdat, section = \"JPN\", target = \"us\", vwl1 = \"I\", vwl2 = \"i:\")\n",
                "# ENS\n",
                "exba(data = fdat, section = \"ENS\", target = \"us\", vwl1 = \"I\", vwl2 = \"i:\")\n"
            ]
        },
        {
            "cell_type": "markdown",
            "metadata": {},
            "source": [
                "## U vs u:\n",
                "\n",
                "High-back \n"
            ]
        },
        {
            "cell_type": "code",
            "execution_count": null,
            "metadata": {},
            "outputs": [],
            "source": [
                "# JPN\n",
                "exba(data = fdat, section = \"JPN\", target = \"us\", vwl1 = \"U\", vwl2 = \"u:\")\n",
                "# ENS\n",
                "exba(data = fdat, section = \"ENS\", target = \"us\", vwl1 = \"U\", vwl2 = \"u:\")\n"
            ]
        },
        {
            "cell_type": "markdown",
            "metadata": {},
            "source": [
                "# Duration\n",
                "\n"
            ]
        },
        {
            "cell_type": "code",
            "execution_count": null,
            "metadata": {},
            "outputs": [],
            "source": [
                "durtb <- fdat %>%\n",
                "  dplyr::group_by(type, tvariety, vowel) %>%\n",
                "  dplyr::summarise(duration_mean = round(mean(duration), 3), \n",
                "                   duration_sd = round(sd(duration), 3),\n",
                "                   freq = n())\n",
                "# inspect\n",
                "durtb\n"
            ]
        },
        {
            "cell_type": "markdown",
            "metadata": {},
            "source": [
                "\n",
                "\n"
            ]
        },
        {
            "cell_type": "code",
            "execution_count": null,
            "metadata": {},
            "outputs": [],
            "source": [
                "durtb %>%\n",
                "  dplyr::mutate(mean_sd = paste0(duration_mean, \" (\", duration_sd, \", N = \", freq, \")\")) %>%\n",
                "  dplyr::select(-duration_mean, -duration_sd, -freq) %>%\n",
                "  tidyr::spread(type, mean_sd) %>%\n",
                "  flextable::flextable()\n"
            ]
        },
        {
            "cell_type": "markdown",
            "metadata": {},
            "source": [
                "\n",
                "\n"
            ]
        },
        {
            "cell_type": "code",
            "execution_count": null,
            "metadata": {},
            "outputs": [],
            "source": [
                "fdat %>%\n",
                "  dplyr::group_by(type, tvariety, vowel) %>%\n",
                "  dplyr::summarise(duration = mean(duration)) %>%\n",
                "  ggplot(aes(x = vowel, y = duration, fill = type)) +\n",
                "  geom_bar(stat = \"identity\", position=position_dodge()) +\n",
                "  facet_grid( ~ tvariety) +\n",
                "  theme_bw()\n"
            ]
        },
        {
            "cell_type": "markdown",
            "metadata": {},
            "source": [
                "\n",
                "\n"
            ]
        },
        {
            "cell_type": "code",
            "execution_count": null,
            "metadata": {},
            "outputs": [],
            "source": [
                "diff_dat <- fdat %>%\n",
                "  dplyr::group_by(type, tvariety, label) %>%\n",
                "  dplyr::summarise(dur = mean(duration)) %>%\n",
                "  dplyr::filter(label == \"I\" | \n",
                "                  label == \"i:\" | \n",
                "                  label == \"U\" | \n",
                "                  label == \"u:\") %>%\n",
                "  tidyr::spread(label, dur) %>%\n",
                "  dplyr::mutate(diff_i = `i:` - I,\n",
                "                diff_u = `u:` - U) %>%\n",
                "  dplyr::select(-I, -U, -`i:`, -`u:`) %>%\n",
                "  tidyr::gather(pair, diff, diff_i:diff_u) %>%\n",
                "  dplyr::mutate(pair = dplyr::case_when(pair == \"diff_i\" ~ \"Ii\",\n",
                "                                        pair == \"diff_u\" ~ \"Uu\"))\n",
                "# inspect\n",
                "diff_dat\n"
            ]
        },
        {
            "cell_type": "markdown",
            "metadata": {},
            "source": [
                "\n",
                "\n"
            ]
        },
        {
            "cell_type": "code",
            "execution_count": null,
            "metadata": {},
            "outputs": [],
            "source": [
                "diff_dat <- fdat %>%\n",
                "  dplyr::group_by(type, tvariety, label) %>%\n",
                "  dplyr::summarise(dur = round(mean(duration), 5),\n",
                "                   sd = round(sd(duration), 5)) %>%\n",
                "  dplyr::filter(label == \"I\" |\n",
                "                  label == \"i:\" | \n",
                "                  label == \"U\" | \n",
                "                  label == \"u:\") %>%\n",
                "  tidyr::spread(label, dur) %>%\n",
                "  dplyr::mutate(diff_i = `i:` - I,\n",
                "                diff_u = `u:` - U) %>%\n",
                "  dplyr::select(-I, -U, -`i:`, -`u:`) %>%\n",
                "  tidyr::gather(pair, diff, diff_i:diff_u) %>%\n",
                "  dplyr::mutate(pair = dplyr::case_when(pair == \"diff_i\" ~ \"Ii\",\n",
                "                                        pair == \"diff_u\" ~ \"Uu\"))\n",
                "# inspect\n",
                "diff_dat\n"
            ]
        },
        {
            "cell_type": "markdown",
            "metadata": {},
            "source": [
                "\n",
                "\n"
            ]
        },
        {
            "cell_type": "code",
            "execution_count": null,
            "metadata": {},
            "outputs": [],
            "source": [
                "dplot <- diff_dat %>%\n",
                "  dplyr::rename(Speaker = type) %>%\n",
                "  dplyr::mutate(pair = ifelse(pair == \"Ii\", \"i-vowles\", \"u-vowels\")) %>%\n",
                "  ggplot(aes(x = pair, y = diff, fill = Speaker)) +\n",
                "  geom_bar(stat = \"identity\", position = position_dodge()) +\n",
                "    # define colors\n",
                "  scale_fill_manual(values= c(\"orange\", \"gray\")) + \n",
                "  # add text and define colour\n",
                "  geom_text(aes(label=round(diff, 3)), vjust=-1.6, color=\"gray20\", \n",
                "            # define text position and size\n",
                "            position = position_dodge(0.9),  size=3) +\n",
                "  theme_bw() +\n",
                "  coord_cartesian(ylim = c(0, .06)) +\n",
                "  labs(x = \"Vowel pairs\", y = \"Mean Difference in Duration (ms)\") +\n",
                "  theme(legend.position = \"top\")\n",
                "# inspect\n",
                "dplot\n"
            ]
        },
        {
            "cell_type": "markdown",
            "metadata": {},
            "source": [
                "# Statistical Analysis\n",
                "\n",
                "base-line model\n"
            ]
        },
        {
            "cell_type": "code",
            "execution_count": null,
            "metadata": {},
            "outputs": [],
            "source": [
                "m0 <- lmer(duration ~ 1 + (1 | speaker) + (1 | word), data = fdat)\n",
                "# inspect\n",
                "summary(m0)\n"
            ]
        },
        {
            "cell_type": "markdown",
            "metadata": {},
            "source": [
                "## Model Fitting\n",
                "\n",
                "\n",
                "\n",
                "**Main effects**\n",
                "\n",
                "### type\n",
                "\n",
                "sig.\n"
            ]
        },
        {
            "cell_type": "code",
            "execution_count": null,
            "metadata": {},
            "outputs": [],
            "source": [
                "# add type\n",
                "m1 <- update(m0, . ~ . + type)\n",
                "# inspect\n",
                "sjPlot::tab_model(m1)\n"
            ]
        },
        {
            "cell_type": "markdown",
            "metadata": {},
            "source": [
                "### label (vowel)\n",
                "\n",
                "sig.\n"
            ]
        },
        {
            "cell_type": "code",
            "execution_count": null,
            "metadata": {},
            "outputs": [],
            "source": [
                "# add label\n",
                "m2 <- update(m1, . ~ . + label)\n",
                "# checks\n",
                "anova(m1, m2, test = \"Chi\")\n",
                "car::vif(m2)\n",
                "# inspect\n",
                "sjPlot::tab_model(m2)\n"
            ]
        },
        {
            "cell_type": "markdown",
            "metadata": {},
            "source": [
                "### gender\n",
                "\n",
                "not sig.\n"
            ]
        },
        {
            "cell_type": "code",
            "execution_count": null,
            "metadata": {},
            "outputs": [],
            "source": [
                "# add gender\n",
                "m3 <- update(m2, . ~ . + gender)\n",
                "# checks\n",
                "anova(m2, m3, test = \"Chi\")\n",
                "car::vif(m3)\n",
                "# inspect\n",
                "sjPlot::tab_model(m3)\n"
            ]
        },
        {
            "cell_type": "markdown",
            "metadata": {},
            "source": [
                "### Age\n",
                "\n",
                "not sig.\n"
            ]
        },
        {
            "cell_type": "code",
            "execution_count": null,
            "metadata": {},
            "outputs": [],
            "source": [
                "# add Age\n",
                "m4 <- update(m2, . ~ . + Age)\n",
                "# checks\n",
                "anova(m2, m4, test = \"Chi\")\n",
                "car::vif(m4)\n",
                "# inspect\n",
                "sjPlot::tab_model(m4)\n"
            ]
        },
        {
            "cell_type": "markdown",
            "metadata": {},
            "source": [
                "### WordType\n",
                "\n",
                "not sig.\n"
            ]
        },
        {
            "cell_type": "code",
            "execution_count": null,
            "metadata": {},
            "outputs": [],
            "source": [
                "# add WordType\n",
                "m5 <- update(m2, . ~ . + WordType)\n",
                "# checks\n",
                "anova(m2, m5, test = \"Chi\")\n",
                "car::vif(m5)\n",
                "# inspect\n",
                "sjPlot::tab_model(m5)\n"
            ]
        },
        {
            "cell_type": "markdown",
            "metadata": {},
            "source": [
                "**Interactions**\n",
                "\n",
                "### type x label\n",
                "\n",
                "sig.\n"
            ]
        },
        {
            "cell_type": "code",
            "execution_count": null,
            "metadata": {},
            "outputs": [],
            "source": [
                "# add type x label\n",
                "m6 <- update(m2, . ~ . + type * label)\n",
                "# checks\n",
                "anova(m2, m6, test = \"Chi\")\n",
                "car::vif(m6)\n",
                "# inspect\n",
                "sjPlot::tab_model(m6)\n"
            ]
        },
        {
            "cell_type": "markdown",
            "metadata": {},
            "source": [
                "### type x Age\n",
                "\n",
                "unacc. vifs\n"
            ]
        },
        {
            "cell_type": "code",
            "execution_count": null,
            "metadata": {},
            "outputs": [],
            "source": [
                "# add type x Age\n",
                "m7 <- update(m6, . ~ . + type * Age)\n",
                "# checks\n",
                "car::vif(m7)\n"
            ]
        },
        {
            "cell_type": "markdown",
            "metadata": {},
            "source": [
                "### type x gender\n",
                "\n",
                "unacc. vifs\n"
            ]
        },
        {
            "cell_type": "code",
            "execution_count": null,
            "metadata": {},
            "outputs": [],
            "source": [
                "# add type x gender\n",
                "m8 <- update(m6, . ~ . + type * gender)\n",
                "# checks\n",
                "car::vif(m8)\n"
            ]
        },
        {
            "cell_type": "markdown",
            "metadata": {},
            "source": [
                "### type x WordType\n",
                "\n",
                "unacc. vifs\n"
            ]
        },
        {
            "cell_type": "code",
            "execution_count": null,
            "metadata": {},
            "outputs": [],
            "source": [
                "# add type x gender\n",
                "m9 <- update(m6, . ~ . + type * WordType)\n",
                "# checks\n",
                "car::vif(m9)\n"
            ]
        },
        {
            "cell_type": "markdown",
            "metadata": {},
            "source": [
                "### label x gender\n",
                "\n",
                "sig.\n"
            ]
        },
        {
            "cell_type": "code",
            "execution_count": null,
            "metadata": {},
            "outputs": [],
            "source": [
                "# add type x gender\n",
                "m10 <- update(m6, . ~ . + type * gender)\n",
                "# checks\n",
                "car::vif(m10)\n",
                "anova(m6, m10, test = \"Chi\")\n",
                "# inspect\n",
                "sjPlot::tab_model(m10)\n"
            ]
        },
        {
            "cell_type": "markdown",
            "metadata": {},
            "source": [
                "### label x Age\n",
                "\n",
                "unacc. vifs\n"
            ]
        },
        {
            "cell_type": "code",
            "execution_count": null,
            "metadata": {},
            "outputs": [],
            "source": [
                "# add type x gender\n",
                "m11 <- update(m10, . ~ . + type * Age)\n",
                "# checks\n",
                "car::vif(m11)\n"
            ]
        },
        {
            "cell_type": "markdown",
            "metadata": {},
            "source": [
                "### label x WordType\n",
                "\n",
                "unacc. vifs\n"
            ]
        },
        {
            "cell_type": "code",
            "execution_count": null,
            "metadata": {},
            "outputs": [],
            "source": [
                "# add type x gender\n",
                "m12 <- update(m10, . ~ . + type * WordType)\n",
                "# checks\n",
                "car::vif(m12)\n"
            ]
        },
        {
            "cell_type": "markdown",
            "metadata": {},
            "source": [
                "### gender x Age\n",
                "\n",
                "unacc. vifs\n"
            ]
        },
        {
            "cell_type": "code",
            "execution_count": null,
            "metadata": {},
            "outputs": [],
            "source": [
                "# add type x gender\n",
                "m13 <- update(m10, . ~ . + gender * Age)\n",
                "# checks\n",
                "car::vif(m13)\n"
            ]
        },
        {
            "cell_type": "markdown",
            "metadata": {},
            "source": [
                "### gender x WordType\n",
                "\n",
                "not sig\n"
            ]
        },
        {
            "cell_type": "code",
            "execution_count": null,
            "metadata": {},
            "outputs": [],
            "source": [
                "# add type x gender\n",
                "m14 <- update(m10, . ~ . + gender * WordType)\n",
                "# checks\n",
                "car::vif(m14)\n",
                "anova(m10, m14, test = \"Chi\")\n",
                "# inspect\n",
                "sjPlot::tab_model(m14)\n"
            ]
        },
        {
            "cell_type": "markdown",
            "metadata": {},
            "source": [
                "### Age x WordType\n",
                "\n",
                "not sig.\n"
            ]
        },
        {
            "cell_type": "code",
            "execution_count": null,
            "metadata": {},
            "outputs": [],
            "source": [
                "# add type x gender\n",
                "m15 <- update(m10, . ~ . + Age * WordType)\n",
                "# checks\n",
                "car::vif(m15)\n",
                "anova(m10, m15, test = \"Chi\")\n",
                "# inspect\n",
                "sjPlot::tab_model(m15)\n"
            ]
        },
        {
            "cell_type": "markdown",
            "metadata": {},
            "source": [
                "## Final Minimal Adequate Model\n",
                "\n"
            ]
        },
        {
            "cell_type": "code",
            "execution_count": null,
            "metadata": {},
            "outputs": [],
            "source": [
                "sjPlot::tab_model(m0, m10)\n",
                "\n"
            ]
        },
        {
            "cell_type": "markdown",
            "metadata": {},
            "source": [
                "\n",
                "\n"
            ]
        },
        {
            "cell_type": "code",
            "execution_count": null,
            "metadata": {},
            "outputs": [],
            "source": [
                "sjPlot::tab_model(m10)\n",
                "\n"
            ]
        },
        {
            "cell_type": "markdown",
            "metadata": {},
            "source": "\n"
        },
        {
            "cell_type": "code",
            "execution_count": null,
            "metadata": {},
            "outputs": [],
            "source": [
                "sjPlot::plot_model(m10) +\n",
                "  coord_flip(ylim = c(-.1, .1)) \n"
            ]
        },
        {
            "cell_type": "markdown",
            "metadata": {},
            "source": [
                "\n",
                "\n"
            ]
        },
        {
            "cell_type": "code",
            "execution_count": null,
            "metadata": {},
            "outputs": [],
            "source": [
                "plot_model(m10, type = \"re\", terms = \"words\")\n",
                "\n"
            ]
        },
        {
            "cell_type": "markdown",
            "metadata": {},
            "source": [
                "\n",
                "\n"
            ]
        },
        {
            "cell_type": "code",
            "execution_count": null,
            "metadata": {},
            "outputs": [],
            "source": [
                "fixef(m10)\n",
                "\n"
            ]
        },
        {
            "cell_type": "markdown",
            "metadata": {},
            "source": [
                "\n",
                "\n"
            ]
        },
        {
            "cell_type": "code",
            "execution_count": null,
            "metadata": {},
            "outputs": [],
            "source": [
                "# jpn i\n",
                "jpn_I <- fixef(m10)[1] + fixef(m10)[2]\n",
                "jpn_i <- fixef(m10)[1] + fixef(m10)[2] + fixef(m10)[3]  + fixef(m10)[7]\n",
                "# ens i\n",
                "ens_I <- fixef(m10)[1] \n",
                "ens_i <- fixef(m10)[1] + fixef(m10)[3]\n",
                "\n",
                "# jpn u\n",
                "jpn_U <- fixef(m10)[1] + fixef(m10)[2] + fixef(m10)[4]  + fixef(m10)[8]\n",
                "jpn_u <- fixef(m10)[1] + fixef(m10)[2] + fixef(m10)[5]  + fixef(m10)[9]\n",
                "# ens i\n",
                "ens_U <- fixef(m10)[1] + fixef(m10)[4]\n",
                "ens_u <- fixef(m10)[1] + fixef(m10)[5]\n"
            ]
        },
        {
            "cell_type": "markdown",
            "metadata": {},
            "source": [
                "\n",
                "\n"
            ]
        },
        {
            "cell_type": "code",
            "execution_count": null,
            "metadata": {},
            "outputs": [],
            "source": [
                "plot_model(m10, type = \"pred\", terms = c(\"type\", \"label\"), axis.lim = c(0, .2)) +\n",
                "  theme_bw() +\n",
                "  labs(x = \"Speaker type\", y = \"Predicted Duration (ms)\") +\n",
                "  geom_segment(aes(x = 1.9, y = jpn_I, xend = 1.9, yend = jpn_i), \n",
                "               size = 1, color = \"gray\") +\n",
                "  geom_segment(aes(x = 0.9, y = ens_I, xend = 0.9, yend = ens_i), \n",
                "               size = 1, color = \"gray\") +\n",
                "    geom_segment(aes(x = 2.1, y = jpn_U, xend = 2.1, yend = jpn_u), \n",
                "                 size = 1, color = \"orange\") +\n",
                "  geom_segment(aes(x = 1.1, y = ens_U, xend = 1.1, yend = ens_u), \n",
                "               size = 1, color = \"orange\") +\n",
                "  scale_color_manual(values = c(\"lightgray\", \"darkgray\", \"orange\", \"orange3\"))\n"
            ]
        },
        {
            "cell_type": "markdown",
            "metadata": {},
            "source": [
                "\n",
                "\n"
            ]
        },
        {
            "cell_type": "code",
            "execution_count": null,
            "metadata": {},
            "outputs": [],
            "source": [
                "report::report(m10)\n",
                "\n"
            ]
        },
        {
            "cell_type": "markdown",
            "metadata": {},
            "source": [
                "\n",
                "[Back to GitHub repo](https://github.com/MartinSchweinberger/UHH2023EngVwlJpn)\n"
            ]
        }
    ],
    "metadata": {
        "anaconda-cloud": "",
        "kernelspec": {
            "display_name": "R",
            "langauge": "R",
            "name": "ir"
        },
        "language_info": {
            "codemirror_mode": "r",
            "file_extension": ".r",
            "mimetype": "text/x-r-source",
            "name": "R",
            "pygments_lexer": "r",
            "version": "3.4.1"
        }
    },
    "nbformat": 4,
    "nbformat_minor": 1
}
